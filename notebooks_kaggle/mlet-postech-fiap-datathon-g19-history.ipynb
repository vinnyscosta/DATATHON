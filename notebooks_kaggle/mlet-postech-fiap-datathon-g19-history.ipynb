{
 "cells": [
  {
   "cell_type": "markdown",
   "id": "6e58f9e5",
   "metadata": {
    "_cell_guid": "b1076dfc-b9ad-4769-8c92-a6c4dae69d19",
    "_uuid": "8f2839f25d086af736a60e9eeb907d3b93b6e0e5",
    "papermill": {
     "duration": 0.0088,
     "end_time": "2025-03-02T15:25:43.933507",
     "exception": false,
     "start_time": "2025-03-02T15:25:43.924707",
     "status": "completed"
    },
    "tags": []
   },
   "source": [
    "## 1. Apresentação  "
   ]
  },
  {
   "cell_type": "markdown",
   "id": "b08f3b87",
   "metadata": {
    "papermill": {
     "duration": 0.008026,
     "end_time": "2025-03-02T15:25:43.950093",
     "exception": false,
     "start_time": "2025-03-02T15:25:43.942067",
     "status": "completed"
    },
    "tags": []
   },
   "source": [
    "### Objetivo\n",
    "\n",
    "Seu desafio é desenvolver um modelo de sistema de recomendação e realizar o deploy dele utilizando as técnicas aprendidas no curso. Nesse cenário, surge o desafio de fornecer recomendações personalizadas para cada usuário com base nos dados de notícias do DPlay, predizendo qual será a próxima notícia que ele vai ler.\n",
    "\n",
    "Técnica Aprendizagem supervisionada, mais precisamente a técnicas de recomendação."
   ]
  },
  {
   "cell_type": "markdown",
   "id": "4502a65a",
   "metadata": {
    "papermill": {
     "duration": 0.008159,
     "end_time": "2025-03-02T15:25:43.966965",
     "exception": false,
     "start_time": "2025-03-02T15:25:43.958806",
     "status": "completed"
    },
    "tags": []
   },
   "source": [
    "### Conjunto de Treino \n",
    "\n",
    "O conjunto de treino está disponibilizado em diferentes partes, cada uma contendo informação complementar.\n",
    "Os arquivos treino_parte_X.csv, em que X é um valor de 1 até 6, consistem das colunas:\n",
    "    \n",
    "    \n",
    "    1. userId: id do usuário.\n",
    "    2. userType: usuário logado ou anônimo.\n",
    "    3. HistorySize: quantidade de notícias lidas pelo usuário.\n",
    "    4. history: lista de notícias visitadas pelo usuário.\n",
    "    5. TimestampHistory: momento em que o usuário visitou a página.\n",
    "    6. timeOnPageHistory: quantidade de ms em que o usuário ficou na página.\n",
    "    7. numberOfClicksHistory: quantidade de clicks na matéria.\n",
    "    8. scrollPercentageHistory: quanto o usuário visualizou da matéria.\n",
    "    9. pageVisitsCountHistory: quantidade de vezes que o usuário visitou a matéria.\n",
    "\n",
    "\n",
    "Além desses arquivos, a pasta de treino contém uma subpasta denominada de itens. Ela contém a seguinte informação:\n",
    "\n",
    "    1. Page: id da matéria. Esse é o mesmo id que aparece na coluna history de antes.\n",
    "    2. Url: url da matéria.\n",
    "    3. Issued: data em que a matéria foi criada.\n",
    "    4. Modified: última data em que a matéria foi modificada.\n",
    "    5. Title: título da matéria.\n",
    "    6. Body: corpo da matéria.Caption: subtítulo da matéria.\n",
    "\n",
    "Este conjunto de treino consiste em dados de usuários reais da DPlay. Eles forem coletados até uma data limite T (a maior data em todo o conjunto TimestampHistory).\n"
   ]
  },
  {
   "cell_type": "markdown",
   "id": "f611b3dd",
   "metadata": {
    "papermill": {
     "duration": 0.007807,
     "end_time": "2025-03-02T15:25:43.983024",
     "exception": false,
     "start_time": "2025-03-02T15:25:43.975217",
     "status": "completed"
    },
    "tags": []
   },
   "source": [
    "### Conjunto de Validação\n",
    "\n",
    "Capturando informações de um período posterior ao treino, ou seja, não existe sobreposição temporal com o treino, o conjunto de validação consiste em:\n",
    "\n",
    "    1. userId: id do usuário.\n",
    "    2. userType: usuário logado ou anônimo.\n",
    "    3. history: lista de páginas que devem ser recomendadas ao usuário.\n",
    "\n"
   ]
  },
  {
   "cell_type": "markdown",
   "id": "8f9e2f1e",
   "metadata": {
    "papermill": {
     "duration": 0.00797,
     "end_time": "2025-03-02T15:25:43.999261",
     "exception": false,
     "start_time": "2025-03-02T15:25:43.991291",
     "status": "completed"
    },
    "tags": []
   },
   "source": [
    "## 2. Carregamento dos Dados"
   ]
  },
  {
   "cell_type": "code",
   "execution_count": 1,
   "id": "90ac7d0a",
   "metadata": {
    "execution": {
     "iopub.execute_input": "2025-03-02T15:25:44.017045Z",
     "iopub.status.busy": "2025-03-02T15:25:44.016586Z",
     "iopub.status.idle": "2025-03-02T15:25:47.417430Z",
     "shell.execute_reply": "2025-03-02T15:25:47.415826Z"
    },
    "papermill": {
     "duration": 3.411934,
     "end_time": "2025-03-02T15:25:47.419443",
     "exception": false,
     "start_time": "2025-03-02T15:25:44.007509",
     "status": "completed"
    },
    "tags": []
   },
   "outputs": [
    {
     "name": "stdout",
     "output_type": "stream",
     "text": [
      "[nltk_data] Downloading package stopwords to /usr/share/nltk_data...\n",
      "[nltk_data]   Unzipping corpora/stopwords.zip.\n"
     ]
    },
    {
     "data": {
      "text/plain": [
       "True"
      ]
     },
     "execution_count": 1,
     "metadata": {},
     "output_type": "execute_result"
    }
   ],
   "source": [
    "import pandas as pd\n",
    "import numpy as np\n",
    "\n",
    "from nltk.corpus import stopwords\n",
    "from sklearn.metrics.pairwise import linear_kernel\n",
    "from sklearn.metrics.pairwise import cosine_similarity\n",
    "from sklearn.feature_extraction.text import TfidfVectorizer\n",
    "from sklearn.feature_extraction.text import CountVectorizer\n",
    "from sklearn.decomposition import LatentDirichletAllocation\n",
    "import re\n",
    "import random \n",
    "\n",
    "\n",
    "from nltk.tokenize import word_tokenize\n",
    "from nltk.tokenize import RegexpTokenizer\n",
    "import string\n",
    "import nltk\n",
    "nltk.download(\"stopwords\")"
   ]
  },
  {
   "cell_type": "code",
   "execution_count": 2,
   "id": "bd8b8b7c",
   "metadata": {
    "execution": {
     "iopub.execute_input": "2025-03-02T15:25:47.438286Z",
     "iopub.status.busy": "2025-03-02T15:25:47.437670Z",
     "iopub.status.idle": "2025-03-02T15:25:50.178088Z",
     "shell.execute_reply": "2025-03-02T15:25:50.176983Z"
    },
    "papermill": {
     "duration": 2.751441,
     "end_time": "2025-03-02T15:25:50.179769",
     "exception": false,
     "start_time": "2025-03-02T15:25:47.428328",
     "status": "completed"
    },
    "tags": []
   },
   "outputs": [
    {
     "data": {
      "text/html": [
       "        <script type=\"text/javascript\">\n",
       "        window.PlotlyConfig = {MathJaxConfig: 'local'};\n",
       "        if (window.MathJax && window.MathJax.Hub && window.MathJax.Hub.Config) {window.MathJax.Hub.Config({SVG: {font: \"STIX-Web\"}});}\n",
       "        if (typeof require !== 'undefined') {\n",
       "        require.undef(\"plotly\");\n",
       "        requirejs.config({\n",
       "            paths: {\n",
       "                'plotly': ['https://cdn.plot.ly/plotly-2.35.2.min']\n",
       "            }\n",
       "        });\n",
       "        require(['plotly'], function(Plotly) {\n",
       "            window._Plotly = Plotly;\n",
       "        });\n",
       "        }\n",
       "        </script>\n",
       "        "
      ]
     },
     "metadata": {},
     "output_type": "display_data"
    },
    {
     "data": {
      "text/html": [
       "        <script type=\"text/javascript\">\n",
       "        window.PlotlyConfig = {MathJaxConfig: 'local'};\n",
       "        if (window.MathJax && window.MathJax.Hub && window.MathJax.Hub.Config) {window.MathJax.Hub.Config({SVG: {font: \"STIX-Web\"}});}\n",
       "        if (typeof require !== 'undefined') {\n",
       "        require.undef(\"plotly\");\n",
       "        requirejs.config({\n",
       "            paths: {\n",
       "                'plotly': ['https://cdn.plot.ly/plotly-2.35.2.min']\n",
       "            }\n",
       "        });\n",
       "        require(['plotly'], function(Plotly) {\n",
       "            window._Plotly = Plotly;\n",
       "        });\n",
       "        }\n",
       "        </script>\n",
       "        "
      ]
     },
     "metadata": {},
     "output_type": "display_data"
    },
    {
     "data": {
      "text/plain": [
       "Renderers configuration\n",
       "-----------------------\n",
       "    Default renderer: 'plotly_mimetype+notebook_connected'\n",
       "    Available renderers:\n",
       "        ['plotly_mimetype', 'jupyterlab', 'nteract', 'vscode',\n",
       "         'notebook', 'notebook_connected', 'kaggle', 'azure', 'colab',\n",
       "         'cocalc', 'databricks', 'json', 'png', 'jpeg', 'jpg', 'svg',\n",
       "         'pdf', 'browser', 'firefox', 'chrome', 'chromium', 'iframe',\n",
       "         'iframe_connected', 'sphinx_gallery', 'sphinx_gallery_png']"
      ]
     },
     "execution_count": 2,
     "metadata": {},
     "output_type": "execute_result"
    }
   ],
   "source": [
    "import plotly\n",
    "import plotly.offline as py\n",
    "import plotly.graph_objs as go # criará de fato os gráficos\n",
    "from plotly.offline import plot, iplot\n",
    "import cufflinks as cf # para conectar o plotly ao pandas\n",
    "cf.go_offline()\n",
    "plotly.offline.init_notebook_mode(connected = True)\n",
    "pd.options.display.max_columns = 30\n",
    "cf.set_config_file(world_readable=True, theme='solar')\n",
    "from IPython.core.interactiveshell import InteractiveShell\n",
    "InteractiveShell.ast_node_interactivity = 'all'\n",
    "\n",
    "import plotly.io as pio\n",
    "pio.renderers\n"
   ]
  },
  {
   "cell_type": "code",
   "execution_count": 3,
   "id": "0097d7e8",
   "metadata": {
    "execution": {
     "iopub.execute_input": "2025-03-02T15:25:50.199168Z",
     "iopub.status.busy": "2025-03-02T15:25:50.198729Z",
     "iopub.status.idle": "2025-03-02T15:25:50.204327Z",
     "shell.execute_reply": "2025-03-02T15:25:50.202983Z"
    },
    "papermill": {
     "duration": 0.017488,
     "end_time": "2025-03-02T15:25:50.206419",
     "exception": false,
     "start_time": "2025-03-02T15:25:50.188931",
     "status": "completed"
    },
    "tags": []
   },
   "outputs": [
    {
     "name": "stdout",
     "output_type": "stream",
     "text": [
      "Done\n"
     ]
    }
   ],
   "source": [
    "pio.renderers.default = 'iframe'\n",
    "print(\"Done\")"
   ]
  },
  {
   "cell_type": "markdown",
   "id": "58694ccf",
   "metadata": {
    "papermill": {
     "duration": 0.008653,
     "end_time": "2025-03-02T15:25:50.224406",
     "exception": false,
     "start_time": "2025-03-02T15:25:50.215753",
     "status": "completed"
    },
    "tags": []
   },
   "source": [
    "### Adicionando StopWords PT-BR"
   ]
  },
  {
   "cell_type": "code",
   "execution_count": 4,
   "id": "e9e88263",
   "metadata": {
    "execution": {
     "iopub.execute_input": "2025-03-02T15:25:50.243767Z",
     "iopub.status.busy": "2025-03-02T15:25:50.243390Z",
     "iopub.status.idle": "2025-03-02T15:25:50.255903Z",
     "shell.execute_reply": "2025-03-02T15:25:50.254680Z"
    },
    "papermill": {
     "duration": 0.024144,
     "end_time": "2025-03-02T15:25:50.257672",
     "exception": false,
     "start_time": "2025-03-02T15:25:50.233528",
     "status": "completed"
    },
    "tags": []
   },
   "outputs": [
    {
     "name": "stdout",
     "output_type": "stream",
     "text": [
      "Done\n"
     ]
    }
   ],
   "source": [
    "stopwords_ptbr = [\n",
    "    \"a\", \"à\", \"agora\", \"ainda\", \"alguém\", \"algum\", \"alguma\", \"algumas\", \"alguns\", \"ampla\", \"amplas\", \"amplo\", \"amplos\",\n",
    "    \"ante\", \"antes\", \"ao\", \"aos\", \"após\", \"aquela\", \"aquelas\", \"aquele\", \"aqueles\", \"aquilo\", \"as\", \"às\", \"até\", \"atrás\", \"bem\", \"boa\", \"boas\", \"bom\", \"bons\",\n",
    "    \"cada\", \"caminho\", \"catorze\", \"cedo\", \"cento\", \"certamente\", \"certeza\", \"cima\", \"cinco\", \"coisa\", \"coisas\", \"com\", \"como\", \"conselho\",\n",
    "    \"contudo\", \"da\", \"daquele\", \"daqueles\", \"dar\", \"das\", \"de\", \"debaixo\", \"dela\", \"delas\", \"dele\", \"deles\", \"demais\", \"dentro\", \"depois\", \"desde\",\n",
    "    \"dessa\", \"dessas\", \"desse\", \"desses\", \"desta\", \"destas\", \"deste\", \"destes\", \"deve\", \"devem\", \"deverá\", \"dez\", \"dezoito\", \"dia\", \"diante\", \"do\",\n",
    "    \"dois\",\"dos\", \"doze\", \"duas\", \"durante\", \"e\", \"ela\", \"elas\", \"ele\", \"eles\", \"em\", \"embora\", \"entre\", \"então\", \"era\", \"essa\", \"essas\", \"esse\", \"esses\",\n",
    "    \"esta\", \"está\", \"estamos\", \"estão\", \"estar\", \"estas\", \"estava\", \"estavam\", \"este\", \"estes\", \"esteve\", \"estive\", \"estivemos\", \"estiveram\",\n",
    "    \"eu\", \"exemplo\", \"fará\", \"fazer\", \"fez\", \"fim\", \"foi\", \"fora\", \"foram\", \"for\", \"fosse\", \"fossem\", \"fui\", \"geral\", \"grande\", \"grandes\", \"grupo\",\n",
    "    \"há\", \"haja\", \"houve\", \"ia\", \"início\", \"ir\", \"isso\", \"isto\", \"já\", \"lado\", \"lá\", \"lhe\", \"lhes\", \"logo\", \"longe\", \"lugar\", \"maior\", \"mais\",\n",
    "    \"mal\", \"mas\", \"me\", \"meio\", \"menor\", \"menos\", \"meu\", \"meus\", \"mil\", \"minha\", \"minhas\", \"momento\", \"muito\", \"muitos\", \"na\", \"nas\", \"nada\", \"não\", \"naquela\",\n",
    "    \"naquelas\", \"naquele\", \"naqueles\", \"nas\", \"nem\", \"nenhum\", \"nessa\", \"nessas\", \"nesse\", \"nesses\", \"nesta\", \"nestas\", \"neste\", \"nestes\", \"ninguém\",\n",
    "    \"nas\", \"no\", \"nós\", \"nos\", \"nossa\", \"nossas\", \"nosso\", \"nossos\", \"nova\", \"novas\", \"nove\", \"novo\", \"novos\", \"num\", \"numa\", \"número\", \"nunca\", \"o\", \"onde\",\n",
    "    \"ontem\", \"onze\", \"os\", \"ou\", \"outra\", \"outras\", \"outro\", \"outros\", \"para\", \"parece\", \"parte\", \"pegar\", \"pela\", \"pelas\", \"pelo\", \"pelos\", \"perto\",\n",
    "    \"pode\", \"pude\", \"põem\", \"ponto\", \"pontos\", \"por\", \"porque\", \"porquê\", \"posição\", \"possível\", \"posso\", \"pouca\", \"poucas\", \"pouco\", \"poucos\",\n",
    "    \"primeiro\", \"próprio\", \"próxima\", \"próximas\", \"próximo\", \"próximos\", \"puderam\", \"quando\", \"quanto\", \"quase\", \"quatro\", \"que\", \"quem\", \"quer\",\n",
    "    \"quero\", \"questão\", \"quieto\", \"quinta\", \"quinto\", \"quiseram\", \"quatorze\", \"quinhentos\", \"relação\", \"sabe\", \"são\", \"se\", \"segunda\", \"segundo\",\n",
    "    \"sei\", \"seis\", \"sem\", \"sempre\", \"ser\", \"será\", \"serão\", \"sete\", \"seu\", \"seus\", \"sexta\", \"sexto\", \"sim\", \"sistema\", \"sob\", \"sobre\", \"sois\", \"somos\",\n",
    "    \"sou\", \"sua\", \"suas\", \"tal\", \"talvez\", \"também\", \"tanta\", \"tantas\", \"tanto\", \"tantos\", \"te\", \"tem\", \"têm\", \"temos\", \"tempo\", \"tenho\", \"ter\",\n",
    "    \"terá\", \"terão\", \"terceira\", \"terceiro\", \"teu\", \"teus\", \"teve\", \"tinha\", \"tinham\", \"toda\", \"todas\", \"todo\", \"todos\", \"trabalho\", \"três\", \"treze\",\n",
    "    \"tu\", \"tua\", \"tuas\", \"tudo\", \"último\", \"um\", \"uma\", \"umas\", \"uns\", \"vai\", \"valor\", \"veja\", \"ver\", \"verdade\", \"verdadeiro\", \"vez\", \"vezes\", \"vi\",\n",
    "    \"vindo\", \"vinte\", \"você\", \"vocês\", \"vos\", \"vossa\", \"vossas\", \"vosso\", \"vossos\", \"zero\"\n",
    "]\n",
    "print(\"Done\")"
   ]
  },
  {
   "cell_type": "markdown",
   "id": "52e3ed6b",
   "metadata": {
    "papermill": {
     "duration": 0.008892,
     "end_time": "2025-03-02T15:25:50.276076",
     "exception": false,
     "start_time": "2025-03-02T15:25:50.267184",
     "status": "completed"
    },
    "tags": []
   },
   "source": [
    "## Configurações da AWS - S3"
   ]
  },
  {
   "cell_type": "code",
   "execution_count": 5,
   "id": "33db328c",
   "metadata": {
    "execution": {
     "iopub.execute_input": "2025-03-02T15:25:50.295492Z",
     "iopub.status.busy": "2025-03-02T15:25:50.295129Z",
     "iopub.status.idle": "2025-03-02T15:25:51.316365Z",
     "shell.execute_reply": "2025-03-02T15:25:51.315079Z"
    },
    "papermill": {
     "duration": 1.033177,
     "end_time": "2025-03-02T15:25:51.318169",
     "exception": false,
     "start_time": "2025-03-02T15:25:50.284992",
     "status": "completed"
    },
    "tags": []
   },
   "outputs": [
    {
     "name": "stdout",
     "output_type": "stream",
     "text": [
      "Done\n"
     ]
    }
   ],
   "source": [
    "import os\n",
    "import boto3\n",
    "import pickle\n",
    "from io import BytesIO\n",
    "from kaggle_secrets import UserSecretsClient\n",
    "from botocore.exceptions import NoCredentialsError\n",
    "\n",
    "user_secrets = UserSecretsClient()\n",
    "\n",
    "# Configurações da AWS\n",
    "AWS_ACCESS_KEY = user_secrets.get_secret(\"AWS_ACCESS_KEY_ID\")\n",
    "AWS_SECRET_KEY = user_secrets.get_secret(\"AWS_SECRET_ACCESS_KEY\")\n",
    "AWS_SESSION_TOKEN = user_secrets.get_secret(\"AWS_SESSION_TOKEN\")\n",
    "AWS_REGION = user_secrets.get_secret(\"AWS_REGION\")\n",
    "BUCKET_NAME = \"datathon-base\"\n",
    "\n",
    "# Criar conexão com o S3\n",
    "def get_s3_client():\n",
    "    return boto3.client(\n",
    "        \"s3\",\n",
    "        aws_access_key_id=AWS_ACCESS_KEY,\n",
    "        aws_secret_access_key=AWS_SECRET_KEY,\n",
    "        aws_session_token=AWS_SESSION_TOKEN,\n",
    "        region_name=AWS_REGION,\n",
    "    )\n",
    "\n",
    "def upload_to_s3(file_name, bucket_name, object_name=None):\n",
    "    \"\"\"\n",
    "    Faz upload de um arquivo CSV para um bucket S3.\n",
    "\n",
    "    :param file_name: Caminho do arquivo local a ser enviado\n",
    "    :param bucket_name: Nome do bucket S3\n",
    "    :param object_name: Nome do arquivo no S3 (opcional, usa o nome original se None)\n",
    "    :param aws_access_key: Chave de acesso AWS (opcional se já configurado)\n",
    "    :param aws_secret_key: Chave secreta AWS (opcional se já configurado)\n",
    "    \"\"\"\n",
    "    try:\n",
    "        # Criar cliente S3\n",
    "        s3_client = get_s3_client()\n",
    "        \n",
    "        if object_name is None:\n",
    "            object_name = file_name.split(\"/\")[-1]  # Usa apenas o nome do arquivo se não especificado\n",
    "        \n",
    "        s3_client.upload_file(file_name, bucket_name, object_name)\n",
    "        print(f\"Upload de {file_name} para {bucket_name}/{object_name} concluído com sucesso.\")\n",
    "    except NoCredentialsError:\n",
    "        print(\"Credenciais não encontradas. Verifique suas configurações de autenticação AWS.\")\n",
    "    except Exception as e:\n",
    "        print(f\"Erro ao fazer upload: {e}\")\n",
    "        \n",
    "def upload_to_s3(file_path, bucket_name=BUCKET_NAME, object_name=None):\n",
    "    \"\"\"Faz upload de um arquivo local para um bucket S3.\"\"\"\n",
    "    \n",
    "    if object_name is None:\n",
    "        object_name = os.path.basename(file_path)  # Nome padrão do arquivo no S3\n",
    "\n",
    "    try:\n",
    "        s3_client = get_s3_client()\n",
    "\n",
    "        s3_client.upload_file(file_path, bucket_name, object_name)\n",
    "        print(f\"✔ Upload de {file_path} para s3://{bucket_name}/{object_name} concluído.\")\n",
    "        return True\n",
    "\n",
    "    except FileNotFoundError:\n",
    "        print(\"❌ O arquivo não foi encontrado.\")\n",
    "        return False\n",
    "    except NoCredentialsError:\n",
    "        print(\"❌ Credenciais da AWS não encontradas.\")\n",
    "        return False\n",
    "\n",
    "# Função para salvar o modelo no S3\n",
    "def save_model_to_s3(model_data, s3_path=\"models/news_recommendation_model_cold_start.pkl\"):\n",
    "    s3 = get_s3_client()\n",
    "    \n",
    "    # Serializar o modelo\n",
    "    with open(\"news_recommendation_model_cold_start.pkl\", \"wb\") as f:\n",
    "        pickle.dump(model_data, f)\n",
    "\n",
    "    # Fazer upload para o S3\n",
    "    with open(\"news_recommendation_model_cold_start.pkl\", \"rb\") as f:\n",
    "        s3.upload_fileobj(f, BUCKET_NAME, s3_path)\n",
    "\n",
    "    print(f\"Modelo salvo no S3 em: s3://{BUCKET_NAME}/{s3_path}\")\n",
    "\n",
    "# Função para carregar o modelo do S3\n",
    "def load_model_from_s3(s3_path=\"models/news_recommendation_model_cold_start.pkl\"):\n",
    "    s3 = get_s3_client()\n",
    "    \n",
    "    # Baixar o arquivo do S3\n",
    "    with open(\"news_recommendation_model_cold_start.pkl\", \"wb\") as f:\n",
    "        s3.download_fileobj(BUCKET_NAME, s3_path, f)\n",
    "\n",
    "    # Carregar o modelo\n",
    "    with open(\"news_recommendation_model_cold_start.pkl\", \"rb\") as f:\n",
    "        model_data = pickle.load(f)\n",
    "\n",
    "    print(\"Modelo Cold Start carregado com sucesso!\")\n",
    "    return model_data\n",
    "\n",
    "def download_dataframe_from_s3(filename):\n",
    "    \"\"\"\n",
    "    Baixa um arquivo Parquet do S3 e carrega como DataFrame.\n",
    "    \n",
    "    :param filename: Nome do arquivo no S3 (ex: \"dados/meu_arquivo.parquet\")\n",
    "    :return: DataFrame do pandas\n",
    "    \"\"\"\n",
    "    try:\n",
    "        s3 = get_s3_client()\n",
    "        response = s3.get_object(Bucket=BUCKET_NAME, Key=filename)\n",
    "        buffer = BytesIO(response[\"Body\"].read())\n",
    "        df = pd.read_parquet(buffer, engine=\"pyarrow\")\n",
    "        print(f\"Arquivo {filename} baixado com sucesso!\")\n",
    "        return df\n",
    "    except Exception as e:\n",
    "        print(\"Erro ao baixar arquivo do S3:\", str(e))\n",
    "        return None\n",
    "\n",
    "def list_s3_files(bucket_name, prefix=''):\n",
    "    \"\"\"\n",
    "    Lista os arquivos de um bucket S3.\n",
    "    \n",
    "    :param bucket_name: Nome do bucket\n",
    "    :param prefix: Prefixo opcional para filtrar os arquivos\n",
    "    :return: Lista de arquivos no bucket\n",
    "    \"\"\"\n",
    "    s3 = get_s3_client() \n",
    "    files = []\n",
    "    \n",
    "    try:\n",
    "        response = s3.list_objects_v2(Bucket=BUCKET_NAME, Prefix=prefix)\n",
    "        if 'Contents' in response:\n",
    "            files = [obj['Key'] for obj in response['Contents']]\n",
    "    except Exception as e:\n",
    "        print(f\"Erro ao listar arquivos do bucket {bucket_name}: {e}\")\n",
    "    \n",
    "    return files\n",
    "\n",
    "print(\"Done\")"
   ]
  },
  {
   "cell_type": "code",
   "execution_count": 6,
   "id": "0f888cab",
   "metadata": {
    "execution": {
     "iopub.execute_input": "2025-03-02T15:25:51.338171Z",
     "iopub.status.busy": "2025-03-02T15:25:51.337524Z",
     "iopub.status.idle": "2025-03-02T15:25:52.360160Z",
     "shell.execute_reply": "2025-03-02T15:25:52.358881Z"
    },
    "papermill": {
     "duration": 1.034544,
     "end_time": "2025-03-02T15:25:52.361908",
     "exception": false,
     "start_time": "2025-03-02T15:25:51.327364",
     "status": "completed"
    },
    "tags": []
   },
   "outputs": [
    {
     "data": {
      "text/plain": [
       "['base_original/interacoes/dados_2022_07.csv',\n",
       " 'base_original/interacoes/dados_2022_08.csv',\n",
       " 'base_original/noticias/dados_2014_07.csv',\n",
       " 'base_original/noticias/dados_2015_12.csv',\n",
       " 'base_original/noticias/dados_2016_10.csv',\n",
       " 'base_original/noticias/dados_2016_11.csv',\n",
       " 'base_original/noticias/dados_2016_12.csv',\n",
       " 'base_original/noticias/dados_2017_01.csv',\n",
       " 'base_original/noticias/dados_2017_02.csv',\n",
       " 'base_original/noticias/dados_2017_03.csv',\n",
       " 'base_original/noticias/dados_2017_04.csv',\n",
       " 'base_original/noticias/dados_2017_05.csv',\n",
       " 'base_original/noticias/dados_2017_06.csv',\n",
       " 'base_original/noticias/dados_2017_07.csv',\n",
       " 'base_original/noticias/dados_2017_08.csv',\n",
       " 'base_original/noticias/dados_2017_09.csv',\n",
       " 'base_original/noticias/dados_2017_10.csv',\n",
       " 'base_original/noticias/dados_2017_11.csv',\n",
       " 'base_original/noticias/dados_2017_12.csv',\n",
       " 'base_original/noticias/dados_2018_01.csv',\n",
       " 'base_original/noticias/dados_2018_02.csv',\n",
       " 'base_original/noticias/dados_2018_03.csv',\n",
       " 'base_original/noticias/dados_2018_04.csv',\n",
       " 'base_original/noticias/dados_2018_05.csv',\n",
       " 'base_original/noticias/dados_2018_06.csv',\n",
       " 'base_original/noticias/dados_2018_07.csv',\n",
       " 'base_original/noticias/dados_2018_08.csv',\n",
       " 'base_original/noticias/dados_2018_09.csv',\n",
       " 'base_original/noticias/dados_2018_10.csv',\n",
       " 'base_original/noticias/dados_2018_11.csv',\n",
       " 'base_original/noticias/dados_2018_12.csv',\n",
       " 'base_original/noticias/dados_2019_01.csv',\n",
       " 'base_original/noticias/dados_2019_02.csv',\n",
       " 'base_original/noticias/dados_2019_03.csv',\n",
       " 'base_original/noticias/dados_2019_04.csv',\n",
       " 'base_original/noticias/dados_2019_05.csv',\n",
       " 'base_original/noticias/dados_2019_06.csv',\n",
       " 'base_original/noticias/dados_2019_07.csv',\n",
       " 'base_original/noticias/dados_2019_08.csv',\n",
       " 'base_original/noticias/dados_2019_09.csv',\n",
       " 'base_original/noticias/dados_2019_10.csv',\n",
       " 'base_original/noticias/dados_2019_11.csv',\n",
       " 'base_original/noticias/dados_2019_12.csv',\n",
       " 'base_original/noticias/dados_2020_01.csv',\n",
       " 'base_original/noticias/dados_2020_02.csv',\n",
       " 'base_original/noticias/dados_2020_03.csv',\n",
       " 'base_original/noticias/dados_2020_04.csv',\n",
       " 'base_original/noticias/dados_2020_05.csv',\n",
       " 'base_original/noticias/dados_2020_06.csv',\n",
       " 'base_original/noticias/dados_2020_07.csv',\n",
       " 'base_original/noticias/dados_2020_08.csv',\n",
       " 'base_original/noticias/dados_2020_09.csv',\n",
       " 'base_original/noticias/dados_2020_10.csv',\n",
       " 'base_original/noticias/dados_2020_11.csv',\n",
       " 'base_original/noticias/dados_2020_12.csv',\n",
       " 'base_original/noticias/dados_2021_01.csv',\n",
       " 'base_original/noticias/dados_2021_02.csv',\n",
       " 'base_original/noticias/dados_2021_03.csv',\n",
       " 'base_original/noticias/dados_2021_04.csv',\n",
       " 'base_original/noticias/dados_2021_05.csv',\n",
       " 'base_original/noticias/dados_2021_06.csv',\n",
       " 'base_original/noticias/dados_2021_07.csv',\n",
       " 'base_original/noticias/dados_2021_08.csv',\n",
       " 'base_original/noticias/dados_2021_09.csv',\n",
       " 'base_original/noticias/dados_2021_10.csv',\n",
       " 'base_original/noticias/dados_2021_11.csv',\n",
       " 'base_original/noticias/dados_2021_12.csv',\n",
       " 'base_original/noticias/dados_2022_01.csv',\n",
       " 'base_original/noticias/dados_2022_02.csv',\n",
       " 'base_original/noticias/dados_2022_03.csv',\n",
       " 'base_original/noticias/dados_2022_04.csv',\n",
       " 'base_original/noticias/dados_2022_05.csv',\n",
       " 'base_original/noticias/dados_2022_06.csv',\n",
       " 'base_original/noticias/dados_2022_07.csv',\n",
       " 'base_original/noticias/dados_2022_08.csv',\n",
       " 'base_original/noticias/dados_2022_09.csv',\n",
       " 'base_original/noticias/dados_2022_10.csv',\n",
       " 'base_original/noticias/dados_2022_11.csv',\n",
       " 'base_original/noticias/dados_2022_12.csv',\n",
       " 'base_original/noticias/dados_2023_01.csv',\n",
       " 'base_original/noticias/dados_2023_02.csv',\n",
       " 'base_original/noticias/dados_2023_03.csv',\n",
       " 'base_original/noticias/dados_2023_04.csv',\n",
       " 'base_original/noticias/dados_2023_05.csv',\n",
       " 'base_original/noticias/dados_2023_06.csv',\n",
       " 'dados/df_interactions.parquet',\n",
       " 'dados/df_news.parquet',\n",
       " 'models/content_based_model.pkl',\n",
       " 'models/news_recommendation_model_cold_start.pkl',\n",
       " 'models/news_recommendation_model_history.pkl',\n",
       " 'recomendations.csv']"
      ]
     },
     "execution_count": 6,
     "metadata": {},
     "output_type": "execute_result"
    }
   ],
   "source": [
    "arquivos = list_s3_files(BUCKET_NAME)\n",
    "arquivos\n"
   ]
  },
  {
   "cell_type": "code",
   "execution_count": 7,
   "id": "6e9abd27",
   "metadata": {
    "execution": {
     "iopub.execute_input": "2025-03-02T15:25:52.381759Z",
     "iopub.status.busy": "2025-03-02T15:25:52.381407Z",
     "iopub.status.idle": "2025-03-02T15:25:52.393101Z",
     "shell.execute_reply": "2025-03-02T15:25:52.391968Z"
    },
    "papermill": {
     "duration": 0.023277,
     "end_time": "2025-03-02T15:25:52.394652",
     "exception": false,
     "start_time": "2025-03-02T15:25:52.371375",
     "status": "completed"
    },
    "tags": []
   },
   "outputs": [
    {
     "name": "stdout",
     "output_type": "stream",
     "text": [
      "Done\n"
     ]
    }
   ],
   "source": [
    "class S3FileDownloader:\n",
    "    def __init__(self, bucket_name, prefix, local_dir='downloads', arq ='', new_arq =''):\n",
    "        \"\"\"\n",
    "        Classe para baixar arquivos de um diretório no S3 e concatená-los em um único DataFrame.\n",
    "        \n",
    "        :param bucket_name: Nome do bucket S3\n",
    "        :param prefix: Prefixo do diretório no S3\n",
    "        :param local_dir: Diretório local para salvar os arquivos (padrão: 'downloads')\n",
    "        \"\"\"\n",
    "        self.s3_client = get_s3_client()\n",
    "        self.bucket_name = bucket_name\n",
    "        self.prefix = prefix\n",
    "        self.local_dir = local_dir\n",
    "        self.arq = arq\n",
    "        self.new_arq = new_arq\n",
    "        \n",
    "        if not os.path.exists(local_dir):\n",
    "            os.makedirs(local_dir)\n",
    "    \n",
    "    def list_s3_files(self):\n",
    "        \"\"\"Lista os arquivos CSV no bucket S3 dentro do diretório especificado.\"\"\"\n",
    "        files = []\n",
    "        try:\n",
    "            response = self.s3_client.list_objects_v2(Bucket=self.bucket_name, Prefix=self.prefix)\n",
    "            if 'Contents' in response:\n",
    "                files = [obj['Key'] for obj in response['Contents'] if obj['Key'].endswith('.csv')]\n",
    "        except Exception as e:\n",
    "            print(f\"Erro ao listar arquivos do bucket {self.bucket_name}: {e}\")\n",
    "        return files\n",
    "    \n",
    "    def download_files(self):\n",
    "        \"\"\"Baixa todos os arquivos CSV listados do S3 para o diretório local.\"\"\"\n",
    "        files = self.list_s3_files()\n",
    "        for file_key in files:\n",
    "            file_name = os.path.join(self.local_dir, os.path.basename(file_key))\n",
    "            try:\n",
    "                self.s3_client.download_file(self.bucket_name, file_key, file_name)\n",
    "                print(f\"Baixado: {file_key} -> {file_name}\")\n",
    "            except Exception as e:\n",
    "                print(f\"Erro ao baixar {file_key}: {e}\")\n",
    "    \n",
    "    def concatenate_csv_files(self):\n",
    "        \"\"\"Lê e concatena os arquivos CSV baixados em um único DataFrame.\"\"\"\n",
    "        csv_files = [os.path.join(self.local_dir, f) for f in os.listdir(self.local_dir) if f.endswith('.csv')]\n",
    "        df_list = []\n",
    "        for file in csv_files:\n",
    "            try:\n",
    "                df = pd.read_csv(file)\n",
    "                df_list.append(df)\n",
    "            except Exception as e:\n",
    "                print(f\"Erro ao ler {file}: {e}\")\n",
    "        \n",
    "        if df_list:\n",
    "            return pd.concat(df_list, ignore_index=True)\n",
    "        else:\n",
    "            return pd.DataFrame()\n",
    "\n",
    "\n",
    "    def download_from_s3(self):\n",
    "        \"\"\"\n",
    "        Faz o download de um arquivo do S3.\n",
    "        \n",
    "        :param bucket_name: Nome do bucket no S3.\n",
    "        :param object_key: Caminho/Chave do arquivo no S3.\n",
    "        :param download_path: Caminho local onde o arquivo será salvo.\n",
    "        \"\"\"\n",
    "      \n",
    "        try:\n",
    "            # Fazendo o download do arquivo\n",
    "            self.s3_client.download_file(self.bucket_name, self.arq, self.new_arq)\n",
    "            print(f\"Download concluído: {self.local_dir}\")\n",
    "        except Exception as e:\n",
    "            print(f\"Erro ao fazer download do arquivo: {e}\")\n",
    "\n",
    "print(\"Done\")"
   ]
  },
  {
   "cell_type": "code",
   "execution_count": 8,
   "id": "d0dfa2ef",
   "metadata": {
    "execution": {
     "iopub.execute_input": "2025-03-02T15:25:52.414505Z",
     "iopub.status.busy": "2025-03-02T15:25:52.414121Z",
     "iopub.status.idle": "2025-03-02T15:26:41.927358Z",
     "shell.execute_reply": "2025-03-02T15:26:41.926247Z"
    },
    "papermill": {
     "duration": 49.525514,
     "end_time": "2025-03-02T15:26:41.929581",
     "exception": false,
     "start_time": "2025-03-02T15:25:52.404067",
     "status": "completed"
    },
    "tags": []
   },
   "outputs": [
    {
     "name": "stdout",
     "output_type": "stream",
     "text": [
      "Baixado: base_original/noticias/dados_2014_07.csv -> /kaggle/working/noticias/dados_2014_07.csv\n",
      "Baixado: base_original/noticias/dados_2015_12.csv -> /kaggle/working/noticias/dados_2015_12.csv\n",
      "Baixado: base_original/noticias/dados_2016_10.csv -> /kaggle/working/noticias/dados_2016_10.csv\n",
      "Baixado: base_original/noticias/dados_2016_11.csv -> /kaggle/working/noticias/dados_2016_11.csv\n",
      "Baixado: base_original/noticias/dados_2016_12.csv -> /kaggle/working/noticias/dados_2016_12.csv\n",
      "Baixado: base_original/noticias/dados_2017_01.csv -> /kaggle/working/noticias/dados_2017_01.csv\n",
      "Baixado: base_original/noticias/dados_2017_02.csv -> /kaggle/working/noticias/dados_2017_02.csv\n",
      "Baixado: base_original/noticias/dados_2017_03.csv -> /kaggle/working/noticias/dados_2017_03.csv\n",
      "Baixado: base_original/noticias/dados_2017_04.csv -> /kaggle/working/noticias/dados_2017_04.csv\n",
      "Baixado: base_original/noticias/dados_2017_05.csv -> /kaggle/working/noticias/dados_2017_05.csv\n",
      "Baixado: base_original/noticias/dados_2017_06.csv -> /kaggle/working/noticias/dados_2017_06.csv\n",
      "Baixado: base_original/noticias/dados_2017_07.csv -> /kaggle/working/noticias/dados_2017_07.csv\n",
      "Baixado: base_original/noticias/dados_2017_08.csv -> /kaggle/working/noticias/dados_2017_08.csv\n",
      "Baixado: base_original/noticias/dados_2017_09.csv -> /kaggle/working/noticias/dados_2017_09.csv\n",
      "Baixado: base_original/noticias/dados_2017_10.csv -> /kaggle/working/noticias/dados_2017_10.csv\n",
      "Baixado: base_original/noticias/dados_2017_11.csv -> /kaggle/working/noticias/dados_2017_11.csv\n",
      "Baixado: base_original/noticias/dados_2017_12.csv -> /kaggle/working/noticias/dados_2017_12.csv\n",
      "Baixado: base_original/noticias/dados_2018_01.csv -> /kaggle/working/noticias/dados_2018_01.csv\n",
      "Baixado: base_original/noticias/dados_2018_02.csv -> /kaggle/working/noticias/dados_2018_02.csv\n",
      "Baixado: base_original/noticias/dados_2018_03.csv -> /kaggle/working/noticias/dados_2018_03.csv\n",
      "Baixado: base_original/noticias/dados_2018_04.csv -> /kaggle/working/noticias/dados_2018_04.csv\n",
      "Baixado: base_original/noticias/dados_2018_05.csv -> /kaggle/working/noticias/dados_2018_05.csv\n",
      "Baixado: base_original/noticias/dados_2018_06.csv -> /kaggle/working/noticias/dados_2018_06.csv\n",
      "Baixado: base_original/noticias/dados_2018_07.csv -> /kaggle/working/noticias/dados_2018_07.csv\n",
      "Baixado: base_original/noticias/dados_2018_08.csv -> /kaggle/working/noticias/dados_2018_08.csv\n",
      "Baixado: base_original/noticias/dados_2018_09.csv -> /kaggle/working/noticias/dados_2018_09.csv\n",
      "Baixado: base_original/noticias/dados_2018_10.csv -> /kaggle/working/noticias/dados_2018_10.csv\n",
      "Baixado: base_original/noticias/dados_2018_11.csv -> /kaggle/working/noticias/dados_2018_11.csv\n",
      "Baixado: base_original/noticias/dados_2018_12.csv -> /kaggle/working/noticias/dados_2018_12.csv\n",
      "Baixado: base_original/noticias/dados_2019_01.csv -> /kaggle/working/noticias/dados_2019_01.csv\n",
      "Baixado: base_original/noticias/dados_2019_02.csv -> /kaggle/working/noticias/dados_2019_02.csv\n",
      "Baixado: base_original/noticias/dados_2019_03.csv -> /kaggle/working/noticias/dados_2019_03.csv\n",
      "Baixado: base_original/noticias/dados_2019_04.csv -> /kaggle/working/noticias/dados_2019_04.csv\n",
      "Baixado: base_original/noticias/dados_2019_05.csv -> /kaggle/working/noticias/dados_2019_05.csv\n",
      "Baixado: base_original/noticias/dados_2019_06.csv -> /kaggle/working/noticias/dados_2019_06.csv\n",
      "Baixado: base_original/noticias/dados_2019_07.csv -> /kaggle/working/noticias/dados_2019_07.csv\n",
      "Baixado: base_original/noticias/dados_2019_08.csv -> /kaggle/working/noticias/dados_2019_08.csv\n",
      "Baixado: base_original/noticias/dados_2019_09.csv -> /kaggle/working/noticias/dados_2019_09.csv\n",
      "Baixado: base_original/noticias/dados_2019_10.csv -> /kaggle/working/noticias/dados_2019_10.csv\n",
      "Baixado: base_original/noticias/dados_2019_11.csv -> /kaggle/working/noticias/dados_2019_11.csv\n",
      "Baixado: base_original/noticias/dados_2019_12.csv -> /kaggle/working/noticias/dados_2019_12.csv\n",
      "Baixado: base_original/noticias/dados_2020_01.csv -> /kaggle/working/noticias/dados_2020_01.csv\n",
      "Baixado: base_original/noticias/dados_2020_02.csv -> /kaggle/working/noticias/dados_2020_02.csv\n",
      "Baixado: base_original/noticias/dados_2020_03.csv -> /kaggle/working/noticias/dados_2020_03.csv\n",
      "Baixado: base_original/noticias/dados_2020_04.csv -> /kaggle/working/noticias/dados_2020_04.csv\n",
      "Baixado: base_original/noticias/dados_2020_05.csv -> /kaggle/working/noticias/dados_2020_05.csv\n",
      "Baixado: base_original/noticias/dados_2020_06.csv -> /kaggle/working/noticias/dados_2020_06.csv\n",
      "Baixado: base_original/noticias/dados_2020_07.csv -> /kaggle/working/noticias/dados_2020_07.csv\n",
      "Baixado: base_original/noticias/dados_2020_08.csv -> /kaggle/working/noticias/dados_2020_08.csv\n",
      "Baixado: base_original/noticias/dados_2020_09.csv -> /kaggle/working/noticias/dados_2020_09.csv\n",
      "Baixado: base_original/noticias/dados_2020_10.csv -> /kaggle/working/noticias/dados_2020_10.csv\n",
      "Baixado: base_original/noticias/dados_2020_11.csv -> /kaggle/working/noticias/dados_2020_11.csv\n",
      "Baixado: base_original/noticias/dados_2020_12.csv -> /kaggle/working/noticias/dados_2020_12.csv\n",
      "Baixado: base_original/noticias/dados_2021_01.csv -> /kaggle/working/noticias/dados_2021_01.csv\n",
      "Baixado: base_original/noticias/dados_2021_02.csv -> /kaggle/working/noticias/dados_2021_02.csv\n",
      "Baixado: base_original/noticias/dados_2021_03.csv -> /kaggle/working/noticias/dados_2021_03.csv\n",
      "Baixado: base_original/noticias/dados_2021_04.csv -> /kaggle/working/noticias/dados_2021_04.csv\n",
      "Baixado: base_original/noticias/dados_2021_05.csv -> /kaggle/working/noticias/dados_2021_05.csv\n",
      "Baixado: base_original/noticias/dados_2021_06.csv -> /kaggle/working/noticias/dados_2021_06.csv\n",
      "Baixado: base_original/noticias/dados_2021_07.csv -> /kaggle/working/noticias/dados_2021_07.csv\n",
      "Baixado: base_original/noticias/dados_2021_08.csv -> /kaggle/working/noticias/dados_2021_08.csv\n",
      "Baixado: base_original/noticias/dados_2021_09.csv -> /kaggle/working/noticias/dados_2021_09.csv\n",
      "Baixado: base_original/noticias/dados_2021_10.csv -> /kaggle/working/noticias/dados_2021_10.csv\n",
      "Baixado: base_original/noticias/dados_2021_11.csv -> /kaggle/working/noticias/dados_2021_11.csv\n",
      "Baixado: base_original/noticias/dados_2021_12.csv -> /kaggle/working/noticias/dados_2021_12.csv\n",
      "Baixado: base_original/noticias/dados_2022_01.csv -> /kaggle/working/noticias/dados_2022_01.csv\n",
      "Baixado: base_original/noticias/dados_2022_02.csv -> /kaggle/working/noticias/dados_2022_02.csv\n",
      "Baixado: base_original/noticias/dados_2022_03.csv -> /kaggle/working/noticias/dados_2022_03.csv\n",
      "Baixado: base_original/noticias/dados_2022_04.csv -> /kaggle/working/noticias/dados_2022_04.csv\n",
      "Baixado: base_original/noticias/dados_2022_05.csv -> /kaggle/working/noticias/dados_2022_05.csv\n",
      "Baixado: base_original/noticias/dados_2022_06.csv -> /kaggle/working/noticias/dados_2022_06.csv\n",
      "Baixado: base_original/noticias/dados_2022_07.csv -> /kaggle/working/noticias/dados_2022_07.csv\n",
      "Baixado: base_original/noticias/dados_2022_08.csv -> /kaggle/working/noticias/dados_2022_08.csv\n",
      "Baixado: base_original/noticias/dados_2022_09.csv -> /kaggle/working/noticias/dados_2022_09.csv\n",
      "Baixado: base_original/noticias/dados_2022_10.csv -> /kaggle/working/noticias/dados_2022_10.csv\n",
      "Baixado: base_original/noticias/dados_2022_11.csv -> /kaggle/working/noticias/dados_2022_11.csv\n",
      "Baixado: base_original/noticias/dados_2022_12.csv -> /kaggle/working/noticias/dados_2022_12.csv\n",
      "Baixado: base_original/noticias/dados_2023_01.csv -> /kaggle/working/noticias/dados_2023_01.csv\n",
      "Baixado: base_original/noticias/dados_2023_02.csv -> /kaggle/working/noticias/dados_2023_02.csv\n",
      "Baixado: base_original/noticias/dados_2023_03.csv -> /kaggle/working/noticias/dados_2023_03.csv\n",
      "Baixado: base_original/noticias/dados_2023_04.csv -> /kaggle/working/noticias/dados_2023_04.csv\n",
      "Baixado: base_original/noticias/dados_2023_05.csv -> /kaggle/working/noticias/dados_2023_05.csv\n",
      "Baixado: base_original/noticias/dados_2023_06.csv -> /kaggle/working/noticias/dados_2023_06.csv\n"
     ]
    }
   ],
   "source": [
    "\n",
    "bucket_name = \"datathon-base\"\n",
    "prefix = \"base_original/noticias/\"\n",
    "local_dir = '/kaggle/working/noticias/'\n",
    "downloader = S3FileDownloader(bucket_name, prefix, local_dir)\n",
    "downloader.download_files()\n",
    "df_news = downloader.concatenate_csv_files()\n"
   ]
  },
  {
   "cell_type": "code",
   "execution_count": 9,
   "id": "509914f6",
   "metadata": {
    "execution": {
     "iopub.execute_input": "2025-03-02T15:26:41.958332Z",
     "iopub.status.busy": "2025-03-02T15:26:41.957951Z",
     "iopub.status.idle": "2025-03-02T15:26:41.984390Z",
     "shell.execute_reply": "2025-03-02T15:26:41.983156Z"
    },
    "papermill": {
     "duration": 0.042675,
     "end_time": "2025-03-02T15:26:41.986195",
     "exception": false,
     "start_time": "2025-03-02T15:26:41.943520",
     "status": "completed"
    },
    "tags": []
   },
   "outputs": [
    {
     "data": {
      "text/html": [
       "<div>\n",
       "<style scoped>\n",
       "    .dataframe tbody tr th:only-of-type {\n",
       "        vertical-align: middle;\n",
       "    }\n",
       "\n",
       "    .dataframe tbody tr th {\n",
       "        vertical-align: top;\n",
       "    }\n",
       "\n",
       "    .dataframe thead th {\n",
       "        text-align: right;\n",
       "    }\n",
       "</style>\n",
       "<table border=\"1\" class=\"dataframe\">\n",
       "  <thead>\n",
       "    <tr style=\"text-align: right;\">\n",
       "      <th></th>\n",
       "      <th>page</th>\n",
       "      <th>url</th>\n",
       "      <th>issued</th>\n",
       "      <th>modified</th>\n",
       "      <th>title</th>\n",
       "      <th>body</th>\n",
       "      <th>caption</th>\n",
       "    </tr>\n",
       "  </thead>\n",
       "  <tbody>\n",
       "    <tr>\n",
       "      <th>0</th>\n",
       "      <td>esid:conteudo_editorial_valor#multi-content#59...</td>\n",
       "      <td>http://g1.globo.com/go/goias/noticia/2019/06/1...</td>\n",
       "      <td>2014-07-31 08:00:01+00:00</td>\n",
       "      <td>2014-07-31 08:15:03+00:00</td>\n",
       "      <td>Commodities Agrícolas</td>\n",
       "      <td>Autor\\nValor\\n Demanda aquecida A forte demand...</td>\n",
       "      <td>Commodities Agrícolas</td>\n",
       "    </tr>\n",
       "    <tr>\n",
       "      <th>1</th>\n",
       "      <td>88e300cb-064b-4854-90a5-0988a22c2801</td>\n",
       "      <td>http://g1.globo.com/rn/rio-grande-do-norte/not...</td>\n",
       "      <td>2017-06-27 18:33:26+00:00</td>\n",
       "      <td>2017-06-27 18:33:27+00:00</td>\n",
       "      <td>RN atinge meta de desmatamento zero da Mata At...</td>\n",
       "      <td>Parque das Dunas é uma das áreas de Mata Atlân...</td>\n",
       "      <td>Dados do Atlas da Mata Atlântica são referente...</td>\n",
       "    </tr>\n",
       "    <tr>\n",
       "      <th>2</th>\n",
       "      <td>a290ae0c-d277-4918-b896-7bd40f95b8f5</td>\n",
       "      <td>http://g1.globo.com/sp/santos-regiao/noticia/i...</td>\n",
       "      <td>2017-06-23 23:06:46+00:00</td>\n",
       "      <td>2017-06-23 23:10:15+00:00</td>\n",
       "      <td>Imagens flagram onça que tem assustado morador...</td>\n",
       "      <td>Câmeras flagram onça que tem assustado morador...</td>\n",
       "      <td>Presença dos animais na zona rural de Juquiá, ...</td>\n",
       "    </tr>\n",
       "  </tbody>\n",
       "</table>\n",
       "</div>"
      ],
      "text/plain": [
       "                                                page  \\\n",
       "0  esid:conteudo_editorial_valor#multi-content#59...   \n",
       "1               88e300cb-064b-4854-90a5-0988a22c2801   \n",
       "2               a290ae0c-d277-4918-b896-7bd40f95b8f5   \n",
       "\n",
       "                                                 url  \\\n",
       "0  http://g1.globo.com/go/goias/noticia/2019/06/1...   \n",
       "1  http://g1.globo.com/rn/rio-grande-do-norte/not...   \n",
       "2  http://g1.globo.com/sp/santos-regiao/noticia/i...   \n",
       "\n",
       "                      issued                   modified  \\\n",
       "0  2014-07-31 08:00:01+00:00  2014-07-31 08:15:03+00:00   \n",
       "1  2017-06-27 18:33:26+00:00  2017-06-27 18:33:27+00:00   \n",
       "2  2017-06-23 23:06:46+00:00  2017-06-23 23:10:15+00:00   \n",
       "\n",
       "                                               title  \\\n",
       "0                              Commodities Agrícolas   \n",
       "1  RN atinge meta de desmatamento zero da Mata At...   \n",
       "2  Imagens flagram onça que tem assustado morador...   \n",
       "\n",
       "                                                body  \\\n",
       "0  Autor\\nValor\\n Demanda aquecida A forte demand...   \n",
       "1  Parque das Dunas é uma das áreas de Mata Atlân...   \n",
       "2  Câmeras flagram onça que tem assustado morador...   \n",
       "\n",
       "                                             caption  \n",
       "0                              Commodities Agrícolas  \n",
       "1  Dados do Atlas da Mata Atlântica são referente...  \n",
       "2  Presença dos animais na zona rural de Juquiá, ...  "
      ]
     },
     "execution_count": 9,
     "metadata": {},
     "output_type": "execute_result"
    }
   ],
   "source": [
    "df_news.head(3)"
   ]
  },
  {
   "cell_type": "code",
   "execution_count": 10,
   "id": "25d488d5",
   "metadata": {
    "execution": {
     "iopub.execute_input": "2025-03-02T15:26:42.016046Z",
     "iopub.status.busy": "2025-03-02T15:26:42.015613Z",
     "iopub.status.idle": "2025-03-02T15:27:26.244953Z",
     "shell.execute_reply": "2025-03-02T15:27:26.243872Z"
    },
    "papermill": {
     "duration": 44.247054,
     "end_time": "2025-03-02T15:27:26.246954",
     "exception": false,
     "start_time": "2025-03-02T15:26:41.999900",
     "status": "completed"
    },
    "tags": []
   },
   "outputs": [
    {
     "name": "stdout",
     "output_type": "stream",
     "text": [
      "Baixado: base_original/interacoes/dados_2022_07.csv -> /kaggle/working/interacoes/dados_2022_07.csv\n",
      "Baixado: base_original/interacoes/dados_2022_08.csv -> /kaggle/working/interacoes/dados_2022_08.csv\n"
     ]
    }
   ],
   "source": [
    "bucket_name = \"datathon-base\"\n",
    "prefix = \"base_original/interacoes/\"\n",
    "local_dir = '/kaggle/working/interacoes/'\n",
    "downloader = S3FileDownloader(bucket_name, prefix, local_dir)\n",
    "downloader.download_files()\n",
    "df_user = downloader.concatenate_csv_files()"
   ]
  },
  {
   "cell_type": "code",
   "execution_count": 11,
   "id": "0a1b0553",
   "metadata": {
    "execution": {
     "iopub.execute_input": "2025-03-02T15:27:26.276406Z",
     "iopub.status.busy": "2025-03-02T15:27:26.276032Z",
     "iopub.status.idle": "2025-03-02T15:27:26.289637Z",
     "shell.execute_reply": "2025-03-02T15:27:26.288474Z"
    },
    "papermill": {
     "duration": 0.030378,
     "end_time": "2025-03-02T15:27:26.291408",
     "exception": false,
     "start_time": "2025-03-02T15:27:26.261030",
     "status": "completed"
    },
    "tags": []
   },
   "outputs": [
    {
     "data": {
      "text/html": [
       "<div>\n",
       "<style scoped>\n",
       "    .dataframe tbody tr th:only-of-type {\n",
       "        vertical-align: middle;\n",
       "    }\n",
       "\n",
       "    .dataframe tbody tr th {\n",
       "        vertical-align: top;\n",
       "    }\n",
       "\n",
       "    .dataframe thead th {\n",
       "        text-align: right;\n",
       "    }\n",
       "</style>\n",
       "<table border=\"1\" class=\"dataframe\">\n",
       "  <thead>\n",
       "    <tr style=\"text-align: right;\">\n",
       "      <th></th>\n",
       "      <th>userId</th>\n",
       "      <th>userType</th>\n",
       "      <th>historySize</th>\n",
       "      <th>history</th>\n",
       "      <th>timestampHistory</th>\n",
       "      <th>numberOfClicksHistory</th>\n",
       "      <th>timeOnPageHistory</th>\n",
       "      <th>scrollPercentageHistory</th>\n",
       "      <th>pageVisitsCountHistory</th>\n",
       "      <th>timestampHistory_new</th>\n",
       "    </tr>\n",
       "  </thead>\n",
       "  <tbody>\n",
       "    <tr>\n",
       "      <th>0</th>\n",
       "      <td>e5f68d5e7cdbe56d6984589b4baa6ebfc5e8a8a918e57d...</td>\n",
       "      <td>Logged</td>\n",
       "      <td>12</td>\n",
       "      <td>50028008-aa11-4519-9d75-452c84dd27fb</td>\n",
       "      <td>2022-07-08 07:08:56.826</td>\n",
       "      <td>4</td>\n",
       "      <td>10081</td>\n",
       "      <td>16.34</td>\n",
       "      <td>1</td>\n",
       "      <td>2022-07-08 07:08:56.826</td>\n",
       "    </tr>\n",
       "    <tr>\n",
       "      <th>1</th>\n",
       "      <td>e5f68d5e7cdbe56d6984589b4baa6ebfc5e8a8a918e57d...</td>\n",
       "      <td>Logged</td>\n",
       "      <td>12</td>\n",
       "      <td>d031af1b-f939-47c1-a589-e6d691b66d91</td>\n",
       "      <td>2022-07-11 15:13:30.329</td>\n",
       "      <td>41</td>\n",
       "      <td>70000</td>\n",
       "      <td>79.35</td>\n",
       "      <td>1</td>\n",
       "      <td>2022-07-11 15:13:30.329</td>\n",
       "    </tr>\n",
       "    <tr>\n",
       "      <th>2</th>\n",
       "      <td>e5f68d5e7cdbe56d6984589b4baa6ebfc5e8a8a918e57d...</td>\n",
       "      <td>Logged</td>\n",
       "      <td>12</td>\n",
       "      <td>bf257382-74fb-4392-ad6a-143240e39f81</td>\n",
       "      <td>2022-07-11 15:15:29.759</td>\n",
       "      <td>6</td>\n",
       "      <td>12216</td>\n",
       "      <td>13.36</td>\n",
       "      <td>1</td>\n",
       "      <td>2022-07-11 15:15:29.759</td>\n",
       "    </tr>\n",
       "  </tbody>\n",
       "</table>\n",
       "</div>"
      ],
      "text/plain": [
       "                                              userId userType  historySize  \\\n",
       "0  e5f68d5e7cdbe56d6984589b4baa6ebfc5e8a8a918e57d...   Logged           12   \n",
       "1  e5f68d5e7cdbe56d6984589b4baa6ebfc5e8a8a918e57d...   Logged           12   \n",
       "2  e5f68d5e7cdbe56d6984589b4baa6ebfc5e8a8a918e57d...   Logged           12   \n",
       "\n",
       "                                history         timestampHistory  \\\n",
       "0  50028008-aa11-4519-9d75-452c84dd27fb  2022-07-08 07:08:56.826   \n",
       "1  d031af1b-f939-47c1-a589-e6d691b66d91  2022-07-11 15:13:30.329   \n",
       "2  bf257382-74fb-4392-ad6a-143240e39f81  2022-07-11 15:15:29.759   \n",
       "\n",
       "   numberOfClicksHistory  timeOnPageHistory  scrollPercentageHistory  \\\n",
       "0                      4              10081                    16.34   \n",
       "1                     41              70000                    79.35   \n",
       "2                      6              12216                    13.36   \n",
       "\n",
       "   pageVisitsCountHistory     timestampHistory_new  \n",
       "0                       1  2022-07-08 07:08:56.826  \n",
       "1                       1  2022-07-11 15:13:30.329  \n",
       "2                       1  2022-07-11 15:15:29.759  "
      ]
     },
     "execution_count": 11,
     "metadata": {},
     "output_type": "execute_result"
    }
   ],
   "source": [
    "df_user.head(3)"
   ]
  },
  {
   "cell_type": "code",
   "execution_count": 12,
   "id": "2f3a5e74",
   "metadata": {
    "execution": {
     "iopub.execute_input": "2025-03-02T15:27:26.320484Z",
     "iopub.status.busy": "2025-03-02T15:27:26.320097Z",
     "iopub.status.idle": "2025-03-02T15:27:26.326170Z",
     "shell.execute_reply": "2025-03-02T15:27:26.324978Z"
    },
    "papermill": {
     "duration": 0.022332,
     "end_time": "2025-03-02T15:27:26.327758",
     "exception": false,
     "start_time": "2025-03-02T15:27:26.305426",
     "status": "completed"
    },
    "tags": []
   },
   "outputs": [
    {
     "data": {
      "text/plain": [
       "(8123951, 10)"
      ]
     },
     "execution_count": 12,
     "metadata": {},
     "output_type": "execute_result"
    }
   ],
   "source": [
    "df_user.shape"
   ]
  },
  {
   "cell_type": "code",
   "execution_count": 13,
   "id": "675aded0",
   "metadata": {
    "execution": {
     "iopub.execute_input": "2025-03-02T15:27:26.357117Z",
     "iopub.status.busy": "2025-03-02T15:27:26.356715Z",
     "iopub.status.idle": "2025-03-02T15:27:51.118278Z",
     "shell.execute_reply": "2025-03-02T15:27:51.117228Z"
    },
    "papermill": {
     "duration": 24.778305,
     "end_time": "2025-03-02T15:27:51.120202",
     "exception": false,
     "start_time": "2025-03-02T15:27:26.341897",
     "status": "completed"
    },
    "tags": []
   },
   "outputs": [],
   "source": [
    "df_user.drop_duplicates(inplace=True)"
   ]
  },
  {
   "cell_type": "code",
   "execution_count": 14,
   "id": "1bbc9b57",
   "metadata": {
    "execution": {
     "iopub.execute_input": "2025-03-02T15:27:51.149249Z",
     "iopub.status.busy": "2025-03-02T15:27:51.148876Z",
     "iopub.status.idle": "2025-03-02T15:27:55.785397Z",
     "shell.execute_reply": "2025-03-02T15:27:55.784197Z"
    },
    "papermill": {
     "duration": 4.653118,
     "end_time": "2025-03-02T15:27:55.787359",
     "exception": false,
     "start_time": "2025-03-02T15:27:51.134241",
     "status": "completed"
    },
    "tags": []
   },
   "outputs": [],
   "source": [
    "df_news = df_news[['page','url','issued','title','caption','body']]\n",
    "df_news.drop_duplicates(inplace=True)"
   ]
  },
  {
   "cell_type": "markdown",
   "id": "048d428b",
   "metadata": {
    "papermill": {
     "duration": 0.013478,
     "end_time": "2025-03-02T15:27:55.814741",
     "exception": false,
     "start_time": "2025-03-02T15:27:55.801263",
     "status": "completed"
    },
    "tags": []
   },
   "source": [
    "### Visualizando Tokens (vocabulario) Frequencia de distribuição antes de remover Stop Words"
   ]
  },
  {
   "cell_type": "code",
   "execution_count": 15,
   "id": "e46c2074",
   "metadata": {
    "execution": {
     "iopub.execute_input": "2025-03-02T15:27:55.843863Z",
     "iopub.status.busy": "2025-03-02T15:27:55.843499Z",
     "iopub.status.idle": "2025-03-02T15:31:39.419359Z",
     "shell.execute_reply": "2025-03-02T15:31:39.414835Z"
    },
    "papermill": {
     "duration": 223.596519,
     "end_time": "2025-03-02T15:31:39.425275",
     "exception": false,
     "start_time": "2025-03-02T15:27:55.828756",
     "status": "completed"
    },
    "tags": []
   },
   "outputs": [],
   "source": [
    "%matplotlib inline\n",
    "def get_top_n_words(corpus, n=None):\n",
    "   vec = CountVectorizer().fit(corpus)\n",
    "   bag_of_words = vec.transform(corpus)\n",
    "   sum_words = bag_of_words.sum(axis=0)\n",
    "   words_freq = [(word, sum_words[0, idx]) for word, idx in vec.vocabulary_.items()]\n",
    "   words_freq =sorted(words_freq, key = lambda x: x[1], reverse=True)\n",
    "   return words_freq[:n]\n",
    "\n",
    "common_words = get_top_n_words(corpus=df_news['body'], n=10)"
   ]
  },
  {
   "cell_type": "code",
   "execution_count": 16,
   "id": "15d878fa",
   "metadata": {
    "execution": {
     "iopub.execute_input": "2025-03-02T15:31:39.520613Z",
     "iopub.status.busy": "2025-03-02T15:31:39.520134Z",
     "iopub.status.idle": "2025-03-02T15:31:41.205407Z",
     "shell.execute_reply": "2025-03-02T15:31:41.204200Z"
    },
    "papermill": {
     "duration": 1.715048,
     "end_time": "2025-03-02T15:31:41.207725",
     "exception": false,
     "start_time": "2025-03-02T15:31:39.492677",
     "status": "completed"
    },
    "tags": []
   },
   "outputs": [
    {
     "data": {
      "text/html": [
       "<iframe\n",
       "    scrolling=\"no\"\n",
       "    width=\"100%\"\n",
       "    height=\"545px\"\n",
       "    src=\"iframe_figures/figure_16.html\"\n",
       "    frameborder=\"0\"\n",
       "    allowfullscreen\n",
       "></iframe>\n"
      ]
     },
     "metadata": {},
     "output_type": "display_data"
    }
   ],
   "source": [
    "df1 = pd.DataFrame(common_words, columns = ['body','count'])\n",
    "df1.groupby('body').sum()['count'].sort_values().iplot(kind='barh', yTitle='Count', linecolor='black', title='Top 20 palavras com stopwords')"
   ]
  },
  {
   "cell_type": "markdown",
   "id": "a2935cbc",
   "metadata": {
    "papermill": {
     "duration": 0.01507,
     "end_time": "2025-03-02T15:31:41.252419",
     "exception": false,
     "start_time": "2025-03-02T15:31:41.237349",
     "status": "completed"
    },
    "tags": []
   },
   "source": [
    "### Visualizando Tokens (vocabulario) Frequencia de distribuição depois de remover Stop Words"
   ]
  },
  {
   "cell_type": "code",
   "execution_count": 17,
   "id": "93995b2d",
   "metadata": {
    "execution": {
     "iopub.execute_input": "2025-03-02T15:31:41.283380Z",
     "iopub.status.busy": "2025-03-02T15:31:41.282788Z",
     "iopub.status.idle": "2025-03-02T15:35:17.535095Z",
     "shell.execute_reply": "2025-03-02T15:35:17.533835Z"
    },
    "papermill": {
     "duration": 216.270882,
     "end_time": "2025-03-02T15:35:17.537285",
     "exception": false,
     "start_time": "2025-03-02T15:31:41.266403",
     "status": "completed"
    },
    "tags": []
   },
   "outputs": [],
   "source": [
    "%matplotlib inline\n",
    "def get_top_n_words(corpus, n=None):\n",
    "   vec = CountVectorizer(stop_words=stopwords_ptbr).fit(corpus)\n",
    "   bag_of_words = vec.transform(corpus)\n",
    "   sum_words = bag_of_words.sum(axis=0)\n",
    "   words_freq = [(word, sum_words[0, idx]) for word, idx in vec.vocabulary_.items()]\n",
    "   words_freq =sorted(words_freq, key = lambda x: x[1], reverse=True)\n",
    "   return words_freq[:n]\n",
    "\n",
    "common_words = get_top_n_words(corpus=df_news['body'], n=10)"
   ]
  },
  {
   "cell_type": "code",
   "execution_count": 18,
   "id": "2e2fdd9f",
   "metadata": {
    "execution": {
     "iopub.execute_input": "2025-03-02T15:35:17.568947Z",
     "iopub.status.busy": "2025-03-02T15:35:17.568530Z",
     "iopub.status.idle": "2025-03-02T15:35:17.653503Z",
     "shell.execute_reply": "2025-03-02T15:35:17.652273Z"
    },
    "papermill": {
     "duration": 0.102583,
     "end_time": "2025-03-02T15:35:17.655498",
     "exception": false,
     "start_time": "2025-03-02T15:35:17.552915",
     "status": "completed"
    },
    "tags": []
   },
   "outputs": [
    {
     "data": {
      "text/html": [
       "<iframe\n",
       "    scrolling=\"no\"\n",
       "    width=\"100%\"\n",
       "    height=\"545px\"\n",
       "    src=\"iframe_figures/figure_18.html\"\n",
       "    frameborder=\"0\"\n",
       "    allowfullscreen\n",
       "></iframe>\n"
      ]
     },
     "metadata": {},
     "output_type": "display_data"
    }
   ],
   "source": [
    "df1 = pd.DataFrame(common_words, columns = ['body','count'])\n",
    "df1.groupby('body').sum()['count'].sort_values().iplot(kind='barh', yTitle='Count', linecolor='black', title='Top 20 palavras sem stopwords')"
   ]
  },
  {
   "cell_type": "markdown",
   "id": "7432f53c",
   "metadata": {
    "papermill": {
     "duration": 0.013452,
     "end_time": "2025-03-02T15:35:17.683785",
     "exception": false,
     "start_time": "2025-03-02T15:35:17.670333",
     "status": "completed"
    },
    "tags": []
   },
   "source": [
    "### Padronização de colunas"
   ]
  },
  {
   "cell_type": "code",
   "execution_count": 19,
   "id": "a238594b",
   "metadata": {
    "execution": {
     "iopub.execute_input": "2025-03-02T15:35:17.712974Z",
     "iopub.status.busy": "2025-03-02T15:35:17.712539Z",
     "iopub.status.idle": "2025-03-02T15:35:18.735742Z",
     "shell.execute_reply": "2025-03-02T15:35:18.734445Z"
    },
    "papermill": {
     "duration": 1.039979,
     "end_time": "2025-03-02T15:35:18.737633",
     "exception": false,
     "start_time": "2025-03-02T15:35:17.697654",
     "status": "completed"
    },
    "tags": []
   },
   "outputs": [
    {
     "name": "stdout",
     "output_type": "stream",
     "text": [
      "Index(['user_id', 'userType', 'historySize', 'news_id', 'timestampHistory',\n",
      "       'numberOfClicksHistory', 'timeOnPageHistory', 'scrollPercentageHistory',\n",
      "       'pageVisitsCountHistory', 'timestampHistory_new'],\n",
      "      dtype='object')\n",
      "Index(['news_id', 'url', 'issued', 'title', 'caption', 'body'], dtype='object')\n",
      "Notícias tamanho: 255603\n",
      "Interações tamanho: 8123951\n"
     ]
    }
   ],
   "source": [
    "padrao_colunas_user = {\n",
    "    'userId': 'user_id',\n",
    "    'history': 'news_id',\n",
    "    'page': 'news_id',\n",
    "}\n",
    "\n",
    "df_user = df_user.rename(columns=padrao_colunas_user)\n",
    "df_news = df_news.rename(columns=padrao_colunas_user)\n",
    "\n",
    "print(df_user.columns)\n",
    "print(df_news.columns)\n",
    "\n",
    "# Exibir quantas interações e notícias restaram após o filtro\n",
    "print(f\"Notícias tamanho: {df_news.shape[0]}\")\n",
    "print(f\"Interações tamanho: {df_user.shape[0]}\")"
   ]
  },
  {
   "cell_type": "code",
   "execution_count": 20,
   "id": "04382463",
   "metadata": {
    "execution": {
     "iopub.execute_input": "2025-03-02T15:35:18.767884Z",
     "iopub.status.busy": "2025-03-02T15:35:18.767496Z",
     "iopub.status.idle": "2025-03-02T15:35:21.228662Z",
     "shell.execute_reply": "2025-03-02T15:35:21.227380Z"
    },
    "papermill": {
     "duration": 2.47822,
     "end_time": "2025-03-02T15:35:21.230519",
     "exception": false,
     "start_time": "2025-03-02T15:35:18.752299",
     "status": "completed"
    },
    "tags": []
   },
   "outputs": [
    {
     "name": "stdout",
     "output_type": "stream",
     "text": [
      "2022-08-15 02:57:16+00:00\n",
      "2014-07-31 08:00:01+00:00\n",
      "Notícias recentes: 33941\n",
      "Interações recentes: 6962404\n"
     ]
    }
   ],
   "source": [
    "# Converter a coluna 'issued' (data da notícia) para datetime\n",
    "df_news['issued'] = pd.to_datetime(df_news['issued'])\n",
    "\n",
    "print(df_news['issued'].max())\n",
    "print(df_news['issued'].min())\n",
    "\n",
    "# Definir um limite de tempo (exemplo: últimos 30 dias)\n",
    "data_limite = df_news['issued'].max() - pd.Timedelta(days=45)\n",
    "\n",
    "# Filtrar notícias mais recentes\n",
    "df_news = df_news[df_news['issued'] >= data_limite]\n",
    "\n",
    "# Agora, filtramos df_user para manter apenas interações com notícias recentes\n",
    "df_user = df_user[df_user['news_id'].isin(df_news['news_id'])]\n",
    "\n",
    "# Exibir quantas interações e notícias restaram após o filtro\n",
    "print(f\"Notícias recentes: {df_news.shape[0]}\")\n",
    "print(f\"Interações recentes: {df_user.shape[0]}\")"
   ]
  },
  {
   "cell_type": "code",
   "execution_count": 21,
   "id": "fbbfa960",
   "metadata": {
    "execution": {
     "iopub.execute_input": "2025-03-02T15:35:21.261203Z",
     "iopub.status.busy": "2025-03-02T15:35:21.260758Z",
     "iopub.status.idle": "2025-03-02T15:35:21.267211Z",
     "shell.execute_reply": "2025-03-02T15:35:21.266169Z"
    },
    "papermill": {
     "duration": 0.023776,
     "end_time": "2025-03-02T15:35:21.268948",
     "exception": false,
     "start_time": "2025-03-02T15:35:21.245172",
     "status": "completed"
    },
    "tags": []
   },
   "outputs": [
    {
     "data": {
      "text/plain": [
       "(33941, 6)"
      ]
     },
     "execution_count": 21,
     "metadata": {},
     "output_type": "execute_result"
    }
   ],
   "source": [
    "df_news.shape"
   ]
  },
  {
   "cell_type": "code",
   "execution_count": 22,
   "id": "2e6229cc",
   "metadata": {
    "execution": {
     "iopub.execute_input": "2025-03-02T15:35:21.299549Z",
     "iopub.status.busy": "2025-03-02T15:35:21.299195Z",
     "iopub.status.idle": "2025-03-02T15:35:21.314218Z",
     "shell.execute_reply": "2025-03-02T15:35:21.313090Z"
    },
    "papermill": {
     "duration": 0.032149,
     "end_time": "2025-03-02T15:35:21.315983",
     "exception": false,
     "start_time": "2025-03-02T15:35:21.283834",
     "status": "completed"
    },
    "tags": []
   },
   "outputs": [
    {
     "data": {
      "text/html": [
       "<div>\n",
       "<style scoped>\n",
       "    .dataframe tbody tr th:only-of-type {\n",
       "        vertical-align: middle;\n",
       "    }\n",
       "\n",
       "    .dataframe tbody tr th {\n",
       "        vertical-align: top;\n",
       "    }\n",
       "\n",
       "    .dataframe thead th {\n",
       "        text-align: right;\n",
       "    }\n",
       "</style>\n",
       "<table border=\"1\" class=\"dataframe\">\n",
       "  <thead>\n",
       "    <tr style=\"text-align: right;\">\n",
       "      <th></th>\n",
       "      <th>news_id</th>\n",
       "      <th>url</th>\n",
       "      <th>issued</th>\n",
       "      <th>title</th>\n",
       "      <th>caption</th>\n",
       "      <th>body</th>\n",
       "    </tr>\n",
       "  </thead>\n",
       "  <tbody>\n",
       "    <tr>\n",
       "      <th>3363</th>\n",
       "      <td>fe3c3b2a-0231-4ba8-ad0e-0ba364eefba9</td>\n",
       "      <td>http://g1.globo.com/mundo/noticia/2022/07/09/e...</td>\n",
       "      <td>2022-07-10 00:50:10+00:00</td>\n",
       "      <td>Equador: Indígenas negam acusação do president...</td>\n",
       "      <td>A Confederação de Nacionalidades Indígenas dev...</td>\n",
       "      <td>Equador amplia estado de exceção no 9º dia de ...</td>\n",
       "    </tr>\n",
       "    <tr>\n",
       "      <th>3370</th>\n",
       "      <td>6de9d71d-31dd-4534-a4a0-9f1fde87f6c5</td>\n",
       "      <td>http://g1.globo.com/podcast/de-onde-vem-o-que-...</td>\n",
       "      <td>2022-08-08 08:40:30+00:00</td>\n",
       "      <td>De onde vem o que eu como #1: Ovo</td>\n",
       "      <td>Podcast explica origem do ovo azul e esclarece...</td>\n",
       "      <td>Você pode ouvir o \"De onde vem o que eu como\" ...</td>\n",
       "    </tr>\n",
       "    <tr>\n",
       "      <th>11985</th>\n",
       "      <td>a5532aeb-4238-4c96-b0be-75124dfca28a</td>\n",
       "      <td>http://g1.globo.com/politica/eleicoes/2022/not...</td>\n",
       "      <td>2022-07-04 19:28:13+00:00</td>\n",
       "      <td>Eleições: o que faz um senador</td>\n",
       "      <td>Entenda quais são as funções dos parlamentares...</td>\n",
       "      <td>O que faz um senador?\\nSenadores são represent...</td>\n",
       "    </tr>\n",
       "    <tr>\n",
       "      <th>11986</th>\n",
       "      <td>adae4f45-9758-4863-a786-6f93160e50b9</td>\n",
       "      <td>http://g1.globo.com/economia/noticia/2022/08/1...</td>\n",
       "      <td>2022-08-10 12:00:25+00:00</td>\n",
       "      <td>IBGE dá início à coleta do Censo 2022 em terra...</td>\n",
       "      <td>Recenseamento dos povos indígenas é feito por ...</td>\n",
       "      <td>Recenseador caminha com indígena Aldeia Velha,...</td>\n",
       "    </tr>\n",
       "    <tr>\n",
       "      <th>11987</th>\n",
       "      <td>4c9ba674-1481-47bf-8448-d35fbd9d6c9b</td>\n",
       "      <td>http://g1.globo.com/economia/noticia/2022/07/1...</td>\n",
       "      <td>2022-07-16 13:18:05+00:00</td>\n",
       "      <td>Camex reduz tarifas para importar equipamentos...</td>\n",
       "      <td>No total, Comitê da Câmara de Comércio Exterio...</td>\n",
       "      <td>O Comitê-Executivo de Gestão da Câmara de Comé...</td>\n",
       "    </tr>\n",
       "  </tbody>\n",
       "</table>\n",
       "</div>"
      ],
      "text/plain": [
       "                                    news_id  \\\n",
       "3363   fe3c3b2a-0231-4ba8-ad0e-0ba364eefba9   \n",
       "3370   6de9d71d-31dd-4534-a4a0-9f1fde87f6c5   \n",
       "11985  a5532aeb-4238-4c96-b0be-75124dfca28a   \n",
       "11986  adae4f45-9758-4863-a786-6f93160e50b9   \n",
       "11987  4c9ba674-1481-47bf-8448-d35fbd9d6c9b   \n",
       "\n",
       "                                                     url  \\\n",
       "3363   http://g1.globo.com/mundo/noticia/2022/07/09/e...   \n",
       "3370   http://g1.globo.com/podcast/de-onde-vem-o-que-...   \n",
       "11985  http://g1.globo.com/politica/eleicoes/2022/not...   \n",
       "11986  http://g1.globo.com/economia/noticia/2022/08/1...   \n",
       "11987  http://g1.globo.com/economia/noticia/2022/07/1...   \n",
       "\n",
       "                         issued  \\\n",
       "3363  2022-07-10 00:50:10+00:00   \n",
       "3370  2022-08-08 08:40:30+00:00   \n",
       "11985 2022-07-04 19:28:13+00:00   \n",
       "11986 2022-08-10 12:00:25+00:00   \n",
       "11987 2022-07-16 13:18:05+00:00   \n",
       "\n",
       "                                                   title  \\\n",
       "3363   Equador: Indígenas negam acusação do president...   \n",
       "3370                  De onde vem o que eu como #1: Ovo    \n",
       "11985                     Eleições: o que faz um senador   \n",
       "11986  IBGE dá início à coleta do Censo 2022 em terra...   \n",
       "11987  Camex reduz tarifas para importar equipamentos...   \n",
       "\n",
       "                                                 caption  \\\n",
       "3363   A Confederação de Nacionalidades Indígenas dev...   \n",
       "3370   Podcast explica origem do ovo azul e esclarece...   \n",
       "11985  Entenda quais são as funções dos parlamentares...   \n",
       "11986  Recenseamento dos povos indígenas é feito por ...   \n",
       "11987  No total, Comitê da Câmara de Comércio Exterio...   \n",
       "\n",
       "                                                    body  \n",
       "3363   Equador amplia estado de exceção no 9º dia de ...  \n",
       "3370   Você pode ouvir o \"De onde vem o que eu como\" ...  \n",
       "11985  O que faz um senador?\\nSenadores são represent...  \n",
       "11986  Recenseador caminha com indígena Aldeia Velha,...  \n",
       "11987  O Comitê-Executivo de Gestão da Câmara de Comé...  "
      ]
     },
     "execution_count": 22,
     "metadata": {},
     "output_type": "execute_result"
    }
   ],
   "source": [
    "df_news.head(5)"
   ]
  },
  {
   "cell_type": "code",
   "execution_count": 23,
   "id": "b052b814",
   "metadata": {
    "execution": {
     "iopub.execute_input": "2025-03-02T15:35:21.346916Z",
     "iopub.status.busy": "2025-03-02T15:35:21.346548Z",
     "iopub.status.idle": "2025-03-02T15:35:21.487161Z",
     "shell.execute_reply": "2025-03-02T15:35:21.485834Z"
    },
    "papermill": {
     "duration": 0.15813,
     "end_time": "2025-03-02T15:35:21.489182",
     "exception": false,
     "start_time": "2025-03-02T15:35:21.331052",
     "status": "completed"
    },
    "tags": []
   },
   "outputs": [],
   "source": [
    "df_news['news_content'] = df_news['title'] + ' ' + df_news['caption'] + ' ' + df_news['body']"
   ]
  },
  {
   "cell_type": "code",
   "execution_count": 24,
   "id": "03397316",
   "metadata": {
    "execution": {
     "iopub.execute_input": "2025-03-02T15:35:21.520016Z",
     "iopub.status.busy": "2025-03-02T15:35:21.519611Z",
     "iopub.status.idle": "2025-03-02T15:35:34.549519Z",
     "shell.execute_reply": "2025-03-02T15:35:34.548260Z"
    },
    "papermill": {
     "duration": 13.047707,
     "end_time": "2025-03-02T15:35:34.551650",
     "exception": false,
     "start_time": "2025-03-02T15:35:21.503943",
     "status": "completed"
    },
    "tags": []
   },
   "outputs": [],
   "source": [
    "vectorizer = TfidfVectorizer(stop_words=stopwords_ptbr)\n",
    "tfidf_matrix = vectorizer.fit_transform(df_news['news_content'])"
   ]
  },
  {
   "cell_type": "markdown",
   "id": "2d2d5c3b",
   "metadata": {
    "papermill": {
     "duration": 0.014487,
     "end_time": "2025-03-02T15:35:34.581274",
     "exception": false,
     "start_time": "2025-03-02T15:35:34.566787",
     "status": "completed"
    },
    "tags": []
   },
   "source": [
    "### Calcular a similaridade entre as notícias"
   ]
  },
  {
   "cell_type": "code",
   "execution_count": 25,
   "id": "6223e6e5",
   "metadata": {
    "execution": {
     "iopub.execute_input": "2025-03-02T15:35:34.611632Z",
     "iopub.status.busy": "2025-03-02T15:35:34.611272Z",
     "iopub.status.idle": "2025-03-02T15:37:04.917366Z",
     "shell.execute_reply": "2025-03-02T15:37:04.915313Z"
    },
    "papermill": {
     "duration": 90.325186,
     "end_time": "2025-03-02T15:37:04.920937",
     "exception": false,
     "start_time": "2025-03-02T15:35:34.595751",
     "status": "completed"
    },
    "tags": []
   },
   "outputs": [],
   "source": [
    "\n",
    "cosine_sim = cosine_similarity(tfidf_matrix, tfidf_matrix)\n"
   ]
  },
  {
   "cell_type": "code",
   "execution_count": 26,
   "id": "e1105e55",
   "metadata": {
    "execution": {
     "iopub.execute_input": "2025-03-02T15:37:04.955348Z",
     "iopub.status.busy": "2025-03-02T15:37:04.954946Z",
     "iopub.status.idle": "2025-03-02T15:37:04.961730Z",
     "shell.execute_reply": "2025-03-02T15:37:04.960835Z"
    },
    "papermill": {
     "duration": 0.024447,
     "end_time": "2025-03-02T15:37:04.963331",
     "exception": false,
     "start_time": "2025-03-02T15:37:04.938884",
     "status": "completed"
    },
    "tags": []
   },
   "outputs": [],
   "source": [
    "# Função para recomendar notícias baseadas em conteúdo\n",
    "def recommend_news_based_on_content(user_history, cosine_sim, df_news, num_recommendations=10):\n",
    "    recommended_news = set()\n",
    "    \n",
    "    for news_id in user_history['news_id']:\n",
    "        if news_id in news_id_to_index:  # Verifica se o ID está no mapeamento\n",
    "            news_index = news_id_to_index[news_id]  # Obtém o índice correto\n",
    "            \n",
    "            # Obter os índices das notícias mais similares\n",
    "            similar_indices = cosine_sim[news_index].argsort()[:-num_recommendations-1:-1]\n",
    "            \n",
    "            # Adicionar as notícias recomendadas\n",
    "            recommended_news.update(df_news.iloc[similar_indices]['title'].values)\n",
    "    \n",
    "    return list(recommended_news)[:num_recommendations]"
   ]
  },
  {
   "cell_type": "markdown",
   "id": "6a906aa4",
   "metadata": {
    "papermill": {
     "duration": 0.111162,
     "end_time": "2025-03-02T15:37:05.089190",
     "exception": false,
     "start_time": "2025-03-02T15:37:04.978028",
     "status": "completed"
    },
    "tags": []
   },
   "source": [
    "### Criar um dicionário para mapear news_id para índice na matriz cosine_sim"
   ]
  },
  {
   "cell_type": "code",
   "execution_count": 27,
   "id": "eb527f7b",
   "metadata": {
    "execution": {
     "iopub.execute_input": "2025-03-02T15:37:05.119931Z",
     "iopub.status.busy": "2025-03-02T15:37:05.119543Z",
     "iopub.status.idle": "2025-03-02T15:37:05.137003Z",
     "shell.execute_reply": "2025-03-02T15:37:05.135898Z"
    },
    "papermill": {
     "duration": 0.034931,
     "end_time": "2025-03-02T15:37:05.138977",
     "exception": false,
     "start_time": "2025-03-02T15:37:05.104046",
     "status": "completed"
    },
    "tags": []
   },
   "outputs": [],
   "source": [
    "news_id_to_index = {news_id: idx for idx, news_id in enumerate(df_news['news_id'])}"
   ]
  },
  {
   "cell_type": "markdown",
   "id": "41976c30",
   "metadata": {
    "papermill": {
     "duration": 0.014406,
     "end_time": "2025-03-02T15:37:05.168023",
     "exception": false,
     "start_time": "2025-03-02T15:37:05.153617",
     "status": "completed"
    },
    "tags": []
   },
   "source": [
    "### Exemplo de histórico do usuário"
   ]
  },
  {
   "cell_type": "code",
   "execution_count": 28,
   "id": "e3a5be74",
   "metadata": {
    "execution": {
     "iopub.execute_input": "2025-03-02T15:37:05.198496Z",
     "iopub.status.busy": "2025-03-02T15:37:05.198115Z",
     "iopub.status.idle": "2025-03-02T15:37:05.770307Z",
     "shell.execute_reply": "2025-03-02T15:37:05.769091Z"
    },
    "papermill": {
     "duration": 0.589878,
     "end_time": "2025-03-02T15:37:05.772435",
     "exception": false,
     "start_time": "2025-03-02T15:37:05.182557",
     "status": "completed"
    },
    "tags": []
   },
   "outputs": [],
   "source": [
    "user = '1505326617b9465f6e13eb1d0d9782bff2af61822a7bc780fa058e95851d15ee'\n",
    "user_history = df_user[df_user['user_id'] == user]\n",
    "user_history = user_history[['user_id', 'news_id']]\n",
    "user_history = user_history[user_history['news_id'].isin(df_news['news_id'])]"
   ]
  },
  {
   "cell_type": "code",
   "execution_count": 29,
   "id": "9f50e17d",
   "metadata": {
    "execution": {
     "iopub.execute_input": "2025-03-02T15:37:05.803940Z",
     "iopub.status.busy": "2025-03-02T15:37:05.803496Z",
     "iopub.status.idle": "2025-03-02T15:37:05.813647Z",
     "shell.execute_reply": "2025-03-02T15:37:05.812412Z"
    },
    "papermill": {
     "duration": 0.028129,
     "end_time": "2025-03-02T15:37:05.815452",
     "exception": false,
     "start_time": "2025-03-02T15:37:05.787323",
     "status": "completed"
    },
    "tags": []
   },
   "outputs": [
    {
     "name": "stdout",
     "output_type": "stream",
     "text": [
      "['Novo vídeo mostra que Shinzo Abe foi atingido pelas costas; VEJA', 'Ex-premiê Shinzo Abe morre após ser baleado no Japão', 'Infográfico mostra como foi movimentação no ataque a Shinzo Abe', 'Vídeos mostram diferentes ângulos do ataque ao ex-premiê do Japão, Shinzo Abe; VEJA']\n"
     ]
    }
   ],
   "source": [
    "# Recomendando notícias com base no conteúdo do histórico\n",
    "recommended_news = recommend_news_based_on_content(user_history, cosine_sim, df_news, num_recommendations=5)\n",
    "print(recommended_news)"
   ]
  },
  {
   "cell_type": "markdown",
   "id": "969d3c7e",
   "metadata": {
    "papermill": {
     "duration": 0.014441,
     "end_time": "2025-03-02T15:37:05.844929",
     "exception": false,
     "start_time": "2025-03-02T15:37:05.830488",
     "status": "completed"
    },
    "tags": []
   },
   "source": [
    "## AWS - S3 - Configuração para subir o modelo treinado"
   ]
  },
  {
   "cell_type": "code",
   "execution_count": 30,
   "id": "630f9263",
   "metadata": {
    "execution": {
     "iopub.execute_input": "2025-03-02T15:37:05.876069Z",
     "iopub.status.busy": "2025-03-02T15:37:05.875643Z",
     "iopub.status.idle": "2025-03-02T15:37:06.628414Z",
     "shell.execute_reply": "2025-03-02T15:37:06.627235Z"
    },
    "papermill": {
     "duration": 0.770699,
     "end_time": "2025-03-02T15:37:06.630411",
     "exception": false,
     "start_time": "2025-03-02T15:37:05.859712",
     "status": "completed"
    },
    "tags": []
   },
   "outputs": [],
   "source": [
    "import os\n",
    "import boto3\n",
    "import pickle\n",
    "from io import BytesIO\n",
    "from kaggle_secrets import UserSecretsClient\n",
    "\n",
    "user_secrets = UserSecretsClient()\n",
    "\n",
    "# Configurações da AWS\n",
    "AWS_ACCESS_KEY = user_secrets.get_secret(\"AWS_ACCESS_KEY_ID\")\n",
    "AWS_SECRET_KEY = user_secrets.get_secret(\"AWS_SECRET_ACCESS_KEY\")\n",
    "AWS_SESSION_TOKEN = user_secrets.get_secret(\"AWS_SESSION_TOKEN\")\n",
    "AWS_REGION = user_secrets.get_secret(\"AWS_REGION\")\n",
    "BUCKET_NAME = \"datathon-base\"\n",
    "\n",
    "# Criar conexão com o S3\n",
    "def get_s3_client():\n",
    "    return boto3.client(\n",
    "        \"s3\",\n",
    "        aws_access_key_id=AWS_ACCESS_KEY,\n",
    "        aws_secret_access_key=AWS_SECRET_KEY,\n",
    "        aws_session_token=AWS_SESSION_TOKEN,\n",
    "        region_name=AWS_REGION,\n",
    "    )\n",
    "\n",
    "# Função para salvar o modelo no S3\n",
    "def save_model_to_s3(model_data, s3_path=\"models/news_recommendation_model_history.pkl\"):\n",
    "    s3 = get_s3_client()\n",
    "    \n",
    "    # Serializar o modelo\n",
    "    with open(\"news_recommendation_model_history.pkl\", \"wb\") as f:\n",
    "        pickle.dump(model_data, f)\n",
    "\n",
    "    # Fazer upload para o S3\n",
    "    with open(\"news_recommendation_model_history.pkl\", \"rb\") as f:\n",
    "        s3.upload_fileobj(f, BUCKET_NAME, s3_path)\n",
    "\n",
    "    print(f\"Modelo salvo no S3 em: s3://{BUCKET_NAME}/{s3_path}\")\n",
    "\n",
    "# Função para carregar o modelo do S3\n",
    "def load_model_from_s3(s3_path=\"models/news_recommendation_model_history.pkl\"):\n",
    "    s3 = get_s3_client()\n",
    "    \n",
    "    # Baixar o arquivo do S3\n",
    "    with open(\"news_recommendation_model_history.pkl\", \"wb\") as f:\n",
    "        s3.download_fileobj(BUCKET_NAME, s3_path, f)\n",
    "\n",
    "    # Carregar o modelo\n",
    "    with open(\"news_recommendation_model_history.pkl\", \"rb\") as f:\n",
    "        model_data = pickle.load(f)\n",
    "\n",
    "    print(\"Modelo carregado com sucesso!\")\n",
    "    return model_data\n",
    "\n"
   ]
  },
  {
   "cell_type": "markdown",
   "id": "005f4e54",
   "metadata": {
    "papermill": {
     "duration": 0.014249,
     "end_time": "2025-03-02T15:37:06.659501",
     "exception": false,
     "start_time": "2025-03-02T15:37:06.645252",
     "status": "completed"
    },
    "tags": []
   },
   "source": [
    "### Salvando o modelo na AWS"
   ]
  },
  {
   "cell_type": "code",
   "execution_count": 31,
   "id": "4450c16d",
   "metadata": {
    "execution": {
     "iopub.execute_input": "2025-03-02T15:37:06.689901Z",
     "iopub.status.busy": "2025-03-02T15:37:06.689477Z",
     "iopub.status.idle": "2025-03-02T15:40:02.294712Z",
     "shell.execute_reply": "2025-03-02T15:40:02.292975Z"
    },
    "papermill": {
     "duration": 175.638454,
     "end_time": "2025-03-02T15:40:02.312420",
     "exception": false,
     "start_time": "2025-03-02T15:37:06.673966",
     "status": "completed"
    },
    "tags": []
   },
   "outputs": [
    {
     "name": "stdout",
     "output_type": "stream",
     "text": [
      "Modelo salvo no S3 em: s3://datathon-base/models/news_recommendation_model_history.pkl\n"
     ]
    }
   ],
   "source": [
    "save_model_to_s3(cosine_sim)"
   ]
  }
 ],
 "metadata": {
  "kaggle": {
   "accelerator": "none",
   "dataSources": [
    {
     "datasetId": 6709832,
     "sourceId": 10835007,
     "sourceType": "datasetVersion"
    }
   ],
   "dockerImageVersionId": 30918,
   "isGpuEnabled": false,
   "isInternetEnabled": true,
   "language": "python",
   "sourceType": "notebook"
  },
  "kernelspec": {
   "display_name": "Python 3",
   "language": "python",
   "name": "python3"
  },
  "language_info": {
   "codemirror_mode": {
    "name": "ipython",
    "version": 3
   },
   "file_extension": ".py",
   "mimetype": "text/x-python",
   "name": "python",
   "nbconvert_exporter": "python",
   "pygments_lexer": "ipython3",
   "version": "3.10.12"
  },
  "papermill": {
   "default_parameters": {},
   "duration": 864.127554,
   "end_time": "2025-03-02T15:40:05.256486",
   "environment_variables": {},
   "exception": null,
   "input_path": "__notebook__.ipynb",
   "output_path": "__notebook__.ipynb",
   "parameters": {},
   "start_time": "2025-03-02T15:25:41.128932",
   "version": "2.6.0"
  }
 },
 "nbformat": 4,
 "nbformat_minor": 5
}
