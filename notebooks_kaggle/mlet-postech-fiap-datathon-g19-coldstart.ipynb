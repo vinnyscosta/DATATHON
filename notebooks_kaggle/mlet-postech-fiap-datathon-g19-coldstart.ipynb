{
 "cells": [
  {
   "cell_type": "markdown",
   "id": "ab9826c4",
   "metadata": {
    "papermill": {
     "duration": 0.007164,
     "end_time": "2025-03-02T15:10:21.443332",
     "exception": false,
     "start_time": "2025-03-02T15:10:21.436168",
     "status": "completed"
    },
    "tags": []
   },
   "source": [
    "# DATATHON - Trabalho Final MLET - Grupo 19 - Cold Start"
   ]
  },
  {
   "cell_type": "markdown",
   "id": "cbc87bf8",
   "metadata": {
    "papermill": {
     "duration": 0.006045,
     "end_time": "2025-03-02T15:10:21.455846",
     "exception": false,
     "start_time": "2025-03-02T15:10:21.449801",
     "status": "completed"
    },
    "tags": []
   },
   "source": [
    "## 1. Apresentação  "
   ]
  },
  {
   "cell_type": "markdown",
   "id": "fa2c4db3",
   "metadata": {
    "papermill": {
     "duration": 0.006098,
     "end_time": "2025-03-02T15:10:21.468299",
     "exception": false,
     "start_time": "2025-03-02T15:10:21.462201",
     "status": "completed"
    },
    "tags": []
   },
   "source": [
    "### Objetivo\n",
    "\n",
    "Seu desafio é desenvolver um modelo de sistema de recomendação e realizar o deploy dele utilizando as técnicas aprendidas no curso. Nesse cenário, surge o desafio de fornecer recomendações personalizadas para cada usuário com base nos dados de notícias do DPlay, predizendo qual será a próxima notícia que ele vai ler.\n",
    "\n",
    "Técnica Aprendizagem supervisionada, mais precisamente a técnicas de recomendação."
   ]
  },
  {
   "cell_type": "markdown",
   "id": "1520cc50",
   "metadata": {
    "papermill": {
     "duration": 0.00615,
     "end_time": "2025-03-02T15:10:21.481046",
     "exception": false,
     "start_time": "2025-03-02T15:10:21.474896",
     "status": "completed"
    },
    "tags": []
   },
   "source": [
    "### Conjunto de Treino \n",
    "\n",
    "O conjunto de treino está disponibilizado em diferentes partes, cada uma contendo informação complementar.\n",
    "Os arquivos treino_parte_X.csv, em que X é um valor de 1 até 6, consistem das colunas:\n",
    "    \n",
    "    \n",
    "    1. userId: id do usuário.\n",
    "    2. userType: usuário logado ou anônimo.\n",
    "    3. HistorySize: quantidade de notícias lidas pelo usuário.\n",
    "    4. history: lista de notícias visitadas pelo usuário.\n",
    "    5. TimestampHistory: momento em que o usuário visitou a página.\n",
    "    6. timeOnPageHistory: quantidade de ms em que o usuário ficou na página.\n",
    "    7. numberOfClicksHistory: quantidade de clicks na matéria.\n",
    "    8. scrollPercentageHistory: quanto o usuário visualizou da matéria.\n",
    "    9. pageVisitsCountHistory: quantidade de vezes que o usuário visitou a matéria.\n",
    "\n",
    "\n",
    "Além desses arquivos, a pasta de treino contém uma subpasta denominada de itens. Ela contém a seguinte informação:\n",
    "\n",
    "    1. Page: id da matéria. Esse é o mesmo id que aparece na coluna history de antes.\n",
    "    2. Url: url da matéria.\n",
    "    3. Issued: data em que a matéria foi criada.\n",
    "    4. Modified: última data em que a matéria foi modificada.\n",
    "    5. Title: título da matéria.\n",
    "    6. Body: corpo da matéria.Caption: subtítulo da matéria.\n",
    "\n",
    "Este conjunto de treino consiste em dados de usuários reais da DPlay. Eles forem coletados até uma data limite T (a maior data em todo o conjunto TimestampHistory).\n"
   ]
  },
  {
   "cell_type": "markdown",
   "id": "441c7f9a",
   "metadata": {
    "papermill": {
     "duration": 0.006013,
     "end_time": "2025-03-02T15:10:21.493237",
     "exception": false,
     "start_time": "2025-03-02T15:10:21.487224",
     "status": "completed"
    },
    "tags": []
   },
   "source": [
    "### Conjunto de Validação\n",
    "\n",
    "Capturando informações de um período posterior ao treino, ou seja, não existe sobreposição temporal com o treino, o conjunto de validação consiste em:\n",
    "\n",
    "    1. userId: id do usuário.\n",
    "    2. userType: usuário logado ou anônimo.\n",
    "    3. history: lista de páginas que devem ser recomendadas ao usuário.\n",
    "\n"
   ]
  },
  {
   "cell_type": "markdown",
   "id": "6b37f328",
   "metadata": {
    "papermill": {
     "duration": 0.006109,
     "end_time": "2025-03-02T15:10:21.505541",
     "exception": false,
     "start_time": "2025-03-02T15:10:21.499432",
     "status": "completed"
    },
    "tags": []
   },
   "source": [
    "O seu objetivo é gerar um ranking para a coluna history. Ou seja: quando um usuário loga, é necessário prever quais serão os próximos acessos dele. Observe que o mesmo userId está tanto na validação quanto no treino."
   ]
  },
  {
   "cell_type": "markdown",
   "id": "ff708188",
   "metadata": {
    "papermill": {
     "duration": 0.006255,
     "end_time": "2025-03-02T15:10:21.517962",
     "exception": false,
     "start_time": "2025-03-02T15:10:21.511707",
     "status": "completed"
    },
    "tags": []
   },
   "source": [
    "## 2. Carregamento dos Dados"
   ]
  },
  {
   "cell_type": "code",
   "execution_count": 1,
   "id": "9430d38d",
   "metadata": {
    "execution": {
     "iopub.execute_input": "2025-03-02T15:10:21.531304Z",
     "iopub.status.busy": "2025-03-02T15:10:21.531016Z",
     "iopub.status.idle": "2025-03-02T15:10:22.762397Z",
     "shell.execute_reply": "2025-03-02T15:10:22.761753Z"
    },
    "papermill": {
     "duration": 1.239862,
     "end_time": "2025-03-02T15:10:22.763906",
     "exception": false,
     "start_time": "2025-03-02T15:10:21.524044",
     "status": "completed"
    },
    "tags": []
   },
   "outputs": [],
   "source": [
    "import pandas as pd\n",
    "import numpy as np"
   ]
  },
  {
   "cell_type": "markdown",
   "id": "6048d1ed",
   "metadata": {
    "papermill": {
     "duration": 0.006214,
     "end_time": "2025-03-02T15:10:22.777018",
     "exception": false,
     "start_time": "2025-03-02T15:10:22.770804",
     "status": "completed"
    },
    "tags": []
   },
   "source": [
    "## Configurações da AWS - S3"
   ]
  },
  {
   "cell_type": "code",
   "execution_count": 2,
   "id": "b2fa8e75",
   "metadata": {
    "execution": {
     "iopub.execute_input": "2025-03-02T15:10:22.790510Z",
     "iopub.status.busy": "2025-03-02T15:10:22.790180Z",
     "iopub.status.idle": "2025-03-02T15:10:23.529511Z",
     "shell.execute_reply": "2025-03-02T15:10:23.528532Z"
    },
    "papermill": {
     "duration": 0.747484,
     "end_time": "2025-03-02T15:10:23.530843",
     "exception": false,
     "start_time": "2025-03-02T15:10:22.783359",
     "status": "completed"
    },
    "tags": []
   },
   "outputs": [
    {
     "name": "stdout",
     "output_type": "stream",
     "text": [
      "Done\n"
     ]
    }
   ],
   "source": [
    "import os\n",
    "import boto3\n",
    "import pickle\n",
    "from io import BytesIO\n",
    "from kaggle_secrets import UserSecretsClient\n",
    "from botocore.exceptions import NoCredentialsError\n",
    "\n",
    "user_secrets = UserSecretsClient()\n",
    "\n",
    "# Configurações da AWS\n",
    "AWS_ACCESS_KEY = user_secrets.get_secret(\"AWS_ACCESS_KEY_ID\")\n",
    "AWS_SECRET_KEY = user_secrets.get_secret(\"AWS_SECRET_ACCESS_KEY\")\n",
    "AWS_SESSION_TOKEN = user_secrets.get_secret(\"AWS_SESSION_TOKEN\")\n",
    "AWS_REGION = user_secrets.get_secret(\"AWS_REGION\")\n",
    "BUCKET_NAME = \"datathon-base\"\n",
    "\n",
    "# Criar conexão com o S3\n",
    "def get_s3_client():\n",
    "    return boto3.client(\n",
    "        \"s3\",\n",
    "        aws_access_key_id=AWS_ACCESS_KEY,\n",
    "        aws_secret_access_key=AWS_SECRET_KEY,\n",
    "        aws_session_token=AWS_SESSION_TOKEN,\n",
    "        region_name=AWS_REGION,\n",
    "    )\n",
    "\n",
    "def upload_to_s3(file_name, bucket_name, object_name=None):\n",
    "    \"\"\"\n",
    "    Faz upload de um arquivo CSV para um bucket S3.\n",
    "\n",
    "    :param file_name: Caminho do arquivo local a ser enviado\n",
    "    :param bucket_name: Nome do bucket S3\n",
    "    :param object_name: Nome do arquivo no S3 (opcional, usa o nome original se None)\n",
    "    :param aws_access_key: Chave de acesso AWS (opcional se já configurado)\n",
    "    :param aws_secret_key: Chave secreta AWS (opcional se já configurado)\n",
    "    \"\"\"\n",
    "    try:\n",
    "        # Criar cliente S3\n",
    "        s3_client = get_s3_client()\n",
    "        \n",
    "        if object_name is None:\n",
    "            object_name = file_name.split(\"/\")[-1]  # Usa apenas o nome do arquivo se não especificado\n",
    "        \n",
    "        s3_client.upload_file(file_name, bucket_name, object_name)\n",
    "        print(f\"Upload de {file_name} para {bucket_name}/{object_name} concluído com sucesso.\")\n",
    "    except NoCredentialsError:\n",
    "        print(\"Credenciais não encontradas. Verifique suas configurações de autenticação AWS.\")\n",
    "    except Exception as e:\n",
    "        print(f\"Erro ao fazer upload: {e}\")\n",
    "        \n",
    "def upload_to_s3(file_path, bucket_name=BUCKET_NAME, object_name=None):\n",
    "    \"\"\"Faz upload de um arquivo local para um bucket S3.\"\"\"\n",
    "    \n",
    "    if object_name is None:\n",
    "        object_name = os.path.basename(file_path)  # Nome padrão do arquivo no S3\n",
    "\n",
    "    try:\n",
    "        s3_client = get_s3_client()\n",
    "\n",
    "        s3_client.upload_file(file_path, bucket_name, object_name)\n",
    "        print(f\"✔ Upload de {file_path} para s3://{bucket_name}/{object_name} concluído.\")\n",
    "        return True\n",
    "\n",
    "    except FileNotFoundError:\n",
    "        print(\"❌ O arquivo não foi encontrado.\")\n",
    "        return False\n",
    "    except NoCredentialsError:\n",
    "        print(\"❌ Credenciais da AWS não encontradas.\")\n",
    "        return False\n",
    "\n",
    "# Função para salvar o modelo no S3\n",
    "def save_model_to_s3(model_data, s3_path=\"models/news_recommendation_model_cold_start.pkl\"):\n",
    "    s3 = get_s3_client()\n",
    "    \n",
    "    # Serializar o modelo\n",
    "    with open(\"news_recommendation_model_cold_start.pkl\", \"wb\") as f:\n",
    "        pickle.dump(model_data, f)\n",
    "\n",
    "    # Fazer upload para o S3\n",
    "    with open(\"news_recommendation_model_cold_start.pkl\", \"rb\") as f:\n",
    "        s3.upload_fileobj(f, BUCKET_NAME, s3_path)\n",
    "\n",
    "    print(f\"Modelo salvo no S3 em: s3://{BUCKET_NAME}/{s3_path}\")\n",
    "\n",
    "# Função para carregar o modelo do S3\n",
    "def load_model_from_s3(s3_path=\"models/news_recommendation_model_cold_start.pkl\"):\n",
    "    s3 = get_s3_client()\n",
    "    \n",
    "    # Baixar o arquivo do S3\n",
    "    with open(\"news_recommendation_model_cold_start.pkl\", \"wb\") as f:\n",
    "        s3.download_fileobj(BUCKET_NAME, s3_path, f)\n",
    "\n",
    "    # Carregar o modelo\n",
    "    with open(\"news_recommendation_model_cold_start.pkl\", \"rb\") as f:\n",
    "        model_data = pickle.load(f)\n",
    "\n",
    "    print(\"Modelo Cold Start carregado com sucesso!\")\n",
    "    return model_data\n",
    "\n",
    "def download_dataframe_from_s3(filename):\n",
    "    \"\"\"\n",
    "    Baixa um arquivo Parquet do S3 e carrega como DataFrame.\n",
    "    \n",
    "    :param filename: Nome do arquivo no S3 (ex: \"dados/meu_arquivo.parquet\")\n",
    "    :return: DataFrame do pandas\n",
    "    \"\"\"\n",
    "    try:\n",
    "        s3 = get_s3_client()\n",
    "        response = s3.get_object(Bucket=BUCKET_NAME, Key=filename)\n",
    "        buffer = BytesIO(response[\"Body\"].read())\n",
    "        df = pd.read_parquet(buffer, engine=\"pyarrow\")\n",
    "        print(f\"Arquivo {filename} baixado com sucesso!\")\n",
    "        return df\n",
    "    except Exception as e:\n",
    "        print(\"Erro ao baixar arquivo do S3:\", str(e))\n",
    "        return None\n",
    "\n",
    "def list_s3_files(bucket_name, prefix=''):\n",
    "    \"\"\"\n",
    "    Lista os arquivos de um bucket S3.\n",
    "    \n",
    "    :param bucket_name: Nome do bucket\n",
    "    :param prefix: Prefixo opcional para filtrar os arquivos\n",
    "    :return: Lista de arquivos no bucket\n",
    "    \"\"\"\n",
    "    s3 = get_s3_client() \n",
    "    files = []\n",
    "    \n",
    "    try:\n",
    "        response = s3.list_objects_v2(Bucket=BUCKET_NAME, Prefix=prefix)\n",
    "        if 'Contents' in response:\n",
    "            files = [obj['Key'] for obj in response['Contents']]\n",
    "    except Exception as e:\n",
    "        print(f\"Erro ao listar arquivos do bucket {bucket_name}: {e}\")\n",
    "    \n",
    "    return files\n",
    "\n",
    "print(\"Done\")"
   ]
  },
  {
   "cell_type": "markdown",
   "id": "67ec1027",
   "metadata": {
    "papermill": {
     "duration": 0.006418,
     "end_time": "2025-03-02T15:10:23.543980",
     "exception": false,
     "start_time": "2025-03-02T15:10:23.537562",
     "status": "completed"
    },
    "tags": []
   },
   "source": [
    "### Listando arquivos no Bucket - S3"
   ]
  },
  {
   "cell_type": "code",
   "execution_count": 3,
   "id": "b1a3bee1",
   "metadata": {
    "execution": {
     "iopub.execute_input": "2025-03-02T15:10:23.557840Z",
     "iopub.status.busy": "2025-03-02T15:10:23.557374Z",
     "iopub.status.idle": "2025-03-02T15:10:25.005132Z",
     "shell.execute_reply": "2025-03-02T15:10:25.004113Z"
    },
    "papermill": {
     "duration": 1.456396,
     "end_time": "2025-03-02T15:10:25.006657",
     "exception": false,
     "start_time": "2025-03-02T15:10:23.550261",
     "status": "completed"
    },
    "tags": []
   },
   "outputs": [
    {
     "data": {
      "text/plain": [
       "['base_original/interacoes/dados_2022_07.csv',\n",
       " 'base_original/interacoes/dados_2022_08.csv',\n",
       " 'base_original/noticias/dados_2014_07.csv',\n",
       " 'base_original/noticias/dados_2015_12.csv',\n",
       " 'base_original/noticias/dados_2016_10.csv',\n",
       " 'base_original/noticias/dados_2016_11.csv',\n",
       " 'base_original/noticias/dados_2016_12.csv',\n",
       " 'base_original/noticias/dados_2017_01.csv',\n",
       " 'base_original/noticias/dados_2017_02.csv',\n",
       " 'base_original/noticias/dados_2017_03.csv',\n",
       " 'base_original/noticias/dados_2017_04.csv',\n",
       " 'base_original/noticias/dados_2017_05.csv',\n",
       " 'base_original/noticias/dados_2017_06.csv',\n",
       " 'base_original/noticias/dados_2017_07.csv',\n",
       " 'base_original/noticias/dados_2017_08.csv',\n",
       " 'base_original/noticias/dados_2017_09.csv',\n",
       " 'base_original/noticias/dados_2017_10.csv',\n",
       " 'base_original/noticias/dados_2017_11.csv',\n",
       " 'base_original/noticias/dados_2017_12.csv',\n",
       " 'base_original/noticias/dados_2018_01.csv',\n",
       " 'base_original/noticias/dados_2018_02.csv',\n",
       " 'base_original/noticias/dados_2018_03.csv',\n",
       " 'base_original/noticias/dados_2018_04.csv',\n",
       " 'base_original/noticias/dados_2018_05.csv',\n",
       " 'base_original/noticias/dados_2018_06.csv',\n",
       " 'base_original/noticias/dados_2018_07.csv',\n",
       " 'base_original/noticias/dados_2018_08.csv',\n",
       " 'base_original/noticias/dados_2018_09.csv',\n",
       " 'base_original/noticias/dados_2018_10.csv',\n",
       " 'base_original/noticias/dados_2018_11.csv',\n",
       " 'base_original/noticias/dados_2018_12.csv',\n",
       " 'base_original/noticias/dados_2019_01.csv',\n",
       " 'base_original/noticias/dados_2019_02.csv',\n",
       " 'base_original/noticias/dados_2019_03.csv',\n",
       " 'base_original/noticias/dados_2019_04.csv',\n",
       " 'base_original/noticias/dados_2019_05.csv',\n",
       " 'base_original/noticias/dados_2019_06.csv',\n",
       " 'base_original/noticias/dados_2019_07.csv',\n",
       " 'base_original/noticias/dados_2019_08.csv',\n",
       " 'base_original/noticias/dados_2019_09.csv',\n",
       " 'base_original/noticias/dados_2019_10.csv',\n",
       " 'base_original/noticias/dados_2019_11.csv',\n",
       " 'base_original/noticias/dados_2019_12.csv',\n",
       " 'base_original/noticias/dados_2020_01.csv',\n",
       " 'base_original/noticias/dados_2020_02.csv',\n",
       " 'base_original/noticias/dados_2020_03.csv',\n",
       " 'base_original/noticias/dados_2020_04.csv',\n",
       " 'base_original/noticias/dados_2020_05.csv',\n",
       " 'base_original/noticias/dados_2020_06.csv',\n",
       " 'base_original/noticias/dados_2020_07.csv',\n",
       " 'base_original/noticias/dados_2020_08.csv',\n",
       " 'base_original/noticias/dados_2020_09.csv',\n",
       " 'base_original/noticias/dados_2020_10.csv',\n",
       " 'base_original/noticias/dados_2020_11.csv',\n",
       " 'base_original/noticias/dados_2020_12.csv',\n",
       " 'base_original/noticias/dados_2021_01.csv',\n",
       " 'base_original/noticias/dados_2021_02.csv',\n",
       " 'base_original/noticias/dados_2021_03.csv',\n",
       " 'base_original/noticias/dados_2021_04.csv',\n",
       " 'base_original/noticias/dados_2021_05.csv',\n",
       " 'base_original/noticias/dados_2021_06.csv',\n",
       " 'base_original/noticias/dados_2021_07.csv',\n",
       " 'base_original/noticias/dados_2021_08.csv',\n",
       " 'base_original/noticias/dados_2021_09.csv',\n",
       " 'base_original/noticias/dados_2021_10.csv',\n",
       " 'base_original/noticias/dados_2021_11.csv',\n",
       " 'base_original/noticias/dados_2021_12.csv',\n",
       " 'base_original/noticias/dados_2022_01.csv',\n",
       " 'base_original/noticias/dados_2022_02.csv',\n",
       " 'base_original/noticias/dados_2022_03.csv',\n",
       " 'base_original/noticias/dados_2022_04.csv',\n",
       " 'base_original/noticias/dados_2022_05.csv',\n",
       " 'base_original/noticias/dados_2022_06.csv',\n",
       " 'base_original/noticias/dados_2022_07.csv',\n",
       " 'base_original/noticias/dados_2022_08.csv',\n",
       " 'base_original/noticias/dados_2022_09.csv',\n",
       " 'base_original/noticias/dados_2022_10.csv',\n",
       " 'base_original/noticias/dados_2022_11.csv',\n",
       " 'base_original/noticias/dados_2022_12.csv',\n",
       " 'base_original/noticias/dados_2023_01.csv',\n",
       " 'base_original/noticias/dados_2023_02.csv',\n",
       " 'base_original/noticias/dados_2023_03.csv',\n",
       " 'base_original/noticias/dados_2023_04.csv',\n",
       " 'base_original/noticias/dados_2023_05.csv',\n",
       " 'base_original/noticias/dados_2023_06.csv',\n",
       " 'models/content_based_model.pkl',\n",
       " 'models/news_recommendation_model_cold_start.pkl',\n",
       " 'recomendations.csv']"
      ]
     },
     "execution_count": 3,
     "metadata": {},
     "output_type": "execute_result"
    }
   ],
   "source": [
    "arquivos = list_s3_files(BUCKET_NAME)\n",
    "arquivos\n"
   ]
  },
  {
   "cell_type": "code",
   "execution_count": 4,
   "id": "7e46e6ea",
   "metadata": {
    "execution": {
     "iopub.execute_input": "2025-03-02T15:10:25.021177Z",
     "iopub.status.busy": "2025-03-02T15:10:25.020953Z",
     "iopub.status.idle": "2025-03-02T15:10:25.029611Z",
     "shell.execute_reply": "2025-03-02T15:10:25.028732Z"
    },
    "papermill": {
     "duration": 0.017067,
     "end_time": "2025-03-02T15:10:25.030715",
     "exception": false,
     "start_time": "2025-03-02T15:10:25.013648",
     "status": "completed"
    },
    "tags": []
   },
   "outputs": [
    {
     "name": "stdout",
     "output_type": "stream",
     "text": [
      "Done\n"
     ]
    }
   ],
   "source": [
    "class S3FileDownloader:\n",
    "    def __init__(self, bucket_name, prefix, local_dir='downloads', arq ='', new_arq =''):\n",
    "        \"\"\"\n",
    "        Classe para baixar arquivos de um diretório no S3 e concatená-los em um único DataFrame.\n",
    "        \n",
    "        :param bucket_name: Nome do bucket S3\n",
    "        :param prefix: Prefixo do diretório no S3\n",
    "        :param local_dir: Diretório local para salvar os arquivos (padrão: 'downloads')\n",
    "        \"\"\"\n",
    "        self.s3_client = get_s3_client()\n",
    "        self.bucket_name = bucket_name\n",
    "        self.prefix = prefix\n",
    "        self.local_dir = local_dir\n",
    "        self.arq = arq\n",
    "        self.new_arq = new_arq\n",
    "        \n",
    "        if not os.path.exists(local_dir):\n",
    "            os.makedirs(local_dir)\n",
    "    \n",
    "    def list_s3_files(self):\n",
    "        \"\"\"Lista os arquivos CSV no bucket S3 dentro do diretório especificado.\"\"\"\n",
    "        files = []\n",
    "        try:\n",
    "            response = self.s3_client.list_objects_v2(Bucket=self.bucket_name, Prefix=self.prefix)\n",
    "            if 'Contents' in response:\n",
    "                files = [obj['Key'] for obj in response['Contents'] if obj['Key'].endswith('.csv')]\n",
    "        except Exception as e:\n",
    "            print(f\"Erro ao listar arquivos do bucket {self.bucket_name}: {e}\")\n",
    "        return files\n",
    "    \n",
    "    def download_files(self):\n",
    "        \"\"\"Baixa todos os arquivos CSV listados do S3 para o diretório local.\"\"\"\n",
    "        files = self.list_s3_files()\n",
    "        for file_key in files:\n",
    "            file_name = os.path.join(self.local_dir, os.path.basename(file_key))\n",
    "            try:\n",
    "                self.s3_client.download_file(self.bucket_name, file_key, file_name)\n",
    "                print(f\"Baixado: {file_key} -> {file_name}\")\n",
    "            except Exception as e:\n",
    "                print(f\"Erro ao baixar {file_key}: {e}\")\n",
    "    \n",
    "    def concatenate_csv_files(self):\n",
    "        \"\"\"Lê e concatena os arquivos CSV baixados em um único DataFrame.\"\"\"\n",
    "        csv_files = [os.path.join(self.local_dir, f) for f in os.listdir(self.local_dir) if f.endswith('.csv')]\n",
    "        df_list = []\n",
    "        for file in csv_files:\n",
    "            try:\n",
    "                df = pd.read_csv(file)\n",
    "                df_list.append(df)\n",
    "            except Exception as e:\n",
    "                print(f\"Erro ao ler {file}: {e}\")\n",
    "        \n",
    "        if df_list:\n",
    "            return pd.concat(df_list, ignore_index=True)\n",
    "        else:\n",
    "            return pd.DataFrame()\n",
    "\n",
    "\n",
    "    def download_from_s3(self):\n",
    "        \"\"\"\n",
    "        Faz o download de um arquivo do S3.\n",
    "        \n",
    "        :param bucket_name: Nome do bucket no S3.\n",
    "        :param object_key: Caminho/Chave do arquivo no S3.\n",
    "        :param download_path: Caminho local onde o arquivo será salvo.\n",
    "        \"\"\"\n",
    "      \n",
    "        try:\n",
    "            # Fazendo o download do arquivo\n",
    "            self.s3_client.download_file(self.bucket_name, self.arq, self.new_arq)\n",
    "            print(f\"Download concluído: {self.local_dir}\")\n",
    "        except Exception as e:\n",
    "            print(f\"Erro ao fazer download do arquivo: {e}\")\n",
    "\n",
    "print(\"Done\")"
   ]
  },
  {
   "cell_type": "markdown",
   "id": "eb10f409",
   "metadata": {
    "papermill": {
     "duration": 0.006329,
     "end_time": "2025-03-02T15:10:25.043686",
     "exception": false,
     "start_time": "2025-03-02T15:10:25.037357",
     "status": "completed"
    },
    "tags": []
   },
   "source": [
    "### Download dos arquivos no S3 para a pasta de trabalho - Noticias"
   ]
  },
  {
   "cell_type": "code",
   "execution_count": 5,
   "id": "a3529824",
   "metadata": {
    "execution": {
     "iopub.execute_input": "2025-03-02T15:10:25.057430Z",
     "iopub.status.busy": "2025-03-02T15:10:25.057219Z",
     "iopub.status.idle": "2025-03-02T15:10:25.855240Z",
     "shell.execute_reply": "2025-03-02T15:10:25.854138Z"
    },
    "papermill": {
     "duration": 0.806626,
     "end_time": "2025-03-02T15:10:25.856864",
     "exception": false,
     "start_time": "2025-03-02T15:10:25.050238",
     "status": "completed"
    },
    "tags": []
   },
   "outputs": [
    {
     "name": "stdout",
     "output_type": "stream",
     "text": [
      "Download concluído: /kaggle/working/noticias/\n"
     ]
    }
   ],
   "source": [
    "\n",
    "bucket_name = \"datathon-base\"\n",
    "prefix = \"base_original/noticias/\"\n",
    "arq = 'base_original/noticias/dados_2022_08.csv'\n",
    "local_dir = '/kaggle/working/noticias/'\n",
    "new_arq = '/kaggle/working/noticias/dados_noticias_2022_08.csv'\n",
    "downloader = S3FileDownloader(bucket_name, prefix, local_dir, arq, new_arq)\n",
    "downloader.download_from_s3()\n"
   ]
  },
  {
   "cell_type": "markdown",
   "id": "db0b53f2",
   "metadata": {
    "papermill": {
     "duration": 0.006382,
     "end_time": "2025-03-02T15:10:25.871416",
     "exception": false,
     "start_time": "2025-03-02T15:10:25.865034",
     "status": "completed"
    },
    "tags": []
   },
   "source": [
    "### Carregando noticias de 08/22"
   ]
  },
  {
   "cell_type": "code",
   "execution_count": 6,
   "id": "577ee1db",
   "metadata": {
    "execution": {
     "iopub.execute_input": "2025-03-02T15:10:25.885271Z",
     "iopub.status.busy": "2025-03-02T15:10:25.885037Z",
     "iopub.status.idle": "2025-03-02T15:10:26.348925Z",
     "shell.execute_reply": "2025-03-02T15:10:26.347958Z"
    },
    "papermill": {
     "duration": 0.472511,
     "end_time": "2025-03-02T15:10:26.350504",
     "exception": false,
     "start_time": "2025-03-02T15:10:25.877993",
     "status": "completed"
    },
    "tags": []
   },
   "outputs": [],
   "source": [
    "df_news = pd.read_csv('/kaggle/working/noticias/dados_noticias_2022_08.csv')"
   ]
  },
  {
   "cell_type": "code",
   "execution_count": 7,
   "id": "bf01ea1d",
   "metadata": {
    "execution": {
     "iopub.execute_input": "2025-03-02T15:10:26.365082Z",
     "iopub.status.busy": "2025-03-02T15:10:26.364831Z",
     "iopub.status.idle": "2025-03-02T15:10:26.408679Z",
     "shell.execute_reply": "2025-03-02T15:10:26.407826Z"
    },
    "papermill": {
     "duration": 0.052319,
     "end_time": "2025-03-02T15:10:26.409915",
     "exception": false,
     "start_time": "2025-03-02T15:10:26.357596",
     "status": "completed"
    },
    "tags": []
   },
   "outputs": [
    {
     "name": "stdout",
     "output_type": "stream",
     "text": [
      "<class 'pandas.core.frame.DataFrame'>\n",
      "RangeIndex: 10979 entries, 0 to 10978\n",
      "Data columns (total 7 columns):\n",
      " #   Column    Non-Null Count  Dtype \n",
      "---  ------    --------------  ----- \n",
      " 0   page      10979 non-null  object\n",
      " 1   url       10979 non-null  object\n",
      " 2   issued    10979 non-null  object\n",
      " 3   modified  10979 non-null  object\n",
      " 4   title     10979 non-null  object\n",
      " 5   body      10979 non-null  object\n",
      " 6   caption   10979 non-null  object\n",
      "dtypes: object(7)\n",
      "memory usage: 600.5+ KB\n"
     ]
    }
   ],
   "source": [
    "df_news.info()"
   ]
  },
  {
   "cell_type": "code",
   "execution_count": 8,
   "id": "4896ec58",
   "metadata": {
    "execution": {
     "iopub.execute_input": "2025-03-02T15:10:26.424289Z",
     "iopub.status.busy": "2025-03-02T15:10:26.424072Z",
     "iopub.status.idle": "2025-03-02T15:10:26.432640Z",
     "shell.execute_reply": "2025-03-02T15:10:26.432033Z"
    },
    "papermill": {
     "duration": 0.017,
     "end_time": "2025-03-02T15:10:26.433859",
     "exception": false,
     "start_time": "2025-03-02T15:10:26.416859",
     "status": "completed"
    },
    "tags": []
   },
   "outputs": [],
   "source": [
    "df_news = df_news.dropna()"
   ]
  },
  {
   "cell_type": "code",
   "execution_count": 9,
   "id": "4536c7ec",
   "metadata": {
    "execution": {
     "iopub.execute_input": "2025-03-02T15:10:26.448440Z",
     "iopub.status.busy": "2025-03-02T15:10:26.448229Z",
     "iopub.status.idle": "2025-03-02T15:10:26.467320Z",
     "shell.execute_reply": "2025-03-02T15:10:26.466555Z"
    },
    "papermill": {
     "duration": 0.027936,
     "end_time": "2025-03-02T15:10:26.468633",
     "exception": false,
     "start_time": "2025-03-02T15:10:26.440697",
     "status": "completed"
    },
    "tags": []
   },
   "outputs": [
    {
     "data": {
      "text/html": [
       "<div>\n",
       "<style scoped>\n",
       "    .dataframe tbody tr th:only-of-type {\n",
       "        vertical-align: middle;\n",
       "    }\n",
       "\n",
       "    .dataframe tbody tr th {\n",
       "        vertical-align: top;\n",
       "    }\n",
       "\n",
       "    .dataframe thead th {\n",
       "        text-align: right;\n",
       "    }\n",
       "</style>\n",
       "<table border=\"1\" class=\"dataframe\">\n",
       "  <thead>\n",
       "    <tr style=\"text-align: right;\">\n",
       "      <th></th>\n",
       "      <th>page</th>\n",
       "      <th>url</th>\n",
       "      <th>issued</th>\n",
       "      <th>modified</th>\n",
       "      <th>title</th>\n",
       "      <th>body</th>\n",
       "      <th>caption</th>\n",
       "    </tr>\n",
       "  </thead>\n",
       "  <tbody>\n",
       "    <tr>\n",
       "      <th>0</th>\n",
       "      <td>56ed4cb1-65c2-42f7-80f4-ea73f0aad59c</td>\n",
       "      <td>http://g1.globo.com/ba/bahia/noticia/2022/08/0...</td>\n",
       "      <td>2022-08-01 17:46:54+00:00</td>\n",
       "      <td>2022-08-01 18:10:14+00:00</td>\n",
       "      <td>Censo 2022: coleta de dados em domicílios come...</td>\n",
       "      <td>Censo do IBGE 2022 começa nesta segunda-feira\\...</td>\n",
       "      <td>Nesta edição, o censo trará, pela primeira vez...</td>\n",
       "    </tr>\n",
       "    <tr>\n",
       "      <th>1</th>\n",
       "      <td>a7ca6fc2-c287-4b46-b056-30b93f98abab</td>\n",
       "      <td>http://g1.globo.com/rn/rio-grande-do-norte/not...</td>\n",
       "      <td>2022-08-01 15:24:32+00:00</td>\n",
       "      <td>2022-08-01 15:24:33+00:00</td>\n",
       "      <td>Sine-RN tem 199 vagas de emprego para Natal, M...</td>\n",
       "      <td>Sine-RN tem 199 vagas de emprego para Natal, M...</td>\n",
       "      <td>Para concorrer às vagas, o candidato deve se c...</td>\n",
       "    </tr>\n",
       "    <tr>\n",
       "      <th>2</th>\n",
       "      <td>2a357fd7-fa8d-4417-917c-c7150d49409e</td>\n",
       "      <td>http://g1.globo.com/pa/santarem-regiao/noticia...</td>\n",
       "      <td>2022-08-02 17:02:34+00:00</td>\n",
       "      <td>2022-08-02 17:12:19+00:00</td>\n",
       "      <td>Em Óbidos, Semed confirma para quarta-feira, 8...</td>\n",
       "      <td>Escola José Veríssimo, em Óbidos, preparada pa...</td>\n",
       "      <td>Mais de 6 mil alunos devem retornar às 14 esco...</td>\n",
       "    </tr>\n",
       "  </tbody>\n",
       "</table>\n",
       "</div>"
      ],
      "text/plain": [
       "                                   page  \\\n",
       "0  56ed4cb1-65c2-42f7-80f4-ea73f0aad59c   \n",
       "1  a7ca6fc2-c287-4b46-b056-30b93f98abab   \n",
       "2  2a357fd7-fa8d-4417-917c-c7150d49409e   \n",
       "\n",
       "                                                 url  \\\n",
       "0  http://g1.globo.com/ba/bahia/noticia/2022/08/0...   \n",
       "1  http://g1.globo.com/rn/rio-grande-do-norte/not...   \n",
       "2  http://g1.globo.com/pa/santarem-regiao/noticia...   \n",
       "\n",
       "                      issued                   modified  \\\n",
       "0  2022-08-01 17:46:54+00:00  2022-08-01 18:10:14+00:00   \n",
       "1  2022-08-01 15:24:32+00:00  2022-08-01 15:24:33+00:00   \n",
       "2  2022-08-02 17:02:34+00:00  2022-08-02 17:12:19+00:00   \n",
       "\n",
       "                                               title  \\\n",
       "0  Censo 2022: coleta de dados em domicílios come...   \n",
       "1  Sine-RN tem 199 vagas de emprego para Natal, M...   \n",
       "2  Em Óbidos, Semed confirma para quarta-feira, 8...   \n",
       "\n",
       "                                                body  \\\n",
       "0  Censo do IBGE 2022 começa nesta segunda-feira\\...   \n",
       "1  Sine-RN tem 199 vagas de emprego para Natal, M...   \n",
       "2  Escola José Veríssimo, em Óbidos, preparada pa...   \n",
       "\n",
       "                                             caption  \n",
       "0  Nesta edição, o censo trará, pela primeira vez...  \n",
       "1  Para concorrer às vagas, o candidato deve se c...  \n",
       "2  Mais de 6 mil alunos devem retornar às 14 esco...  "
      ]
     },
     "execution_count": 9,
     "metadata": {},
     "output_type": "execute_result"
    }
   ],
   "source": [
    "df_news.head(3)"
   ]
  },
  {
   "cell_type": "markdown",
   "id": "a23ac6e1",
   "metadata": {
    "papermill": {
     "duration": 0.006799,
     "end_time": "2025-03-02T15:10:26.483052",
     "exception": false,
     "start_time": "2025-03-02T15:10:26.476253",
     "status": "completed"
    },
    "tags": []
   },
   "source": [
    "### Carregando dados das ultimas interações - 08/22"
   ]
  },
  {
   "cell_type": "code",
   "execution_count": 10,
   "id": "42f399c5",
   "metadata": {
    "execution": {
     "iopub.execute_input": "2025-03-02T15:10:26.497660Z",
     "iopub.status.busy": "2025-03-02T15:10:26.497421Z",
     "iopub.status.idle": "2025-03-02T15:10:29.912140Z",
     "shell.execute_reply": "2025-03-02T15:10:29.911128Z"
    },
    "papermill": {
     "duration": 3.423659,
     "end_time": "2025-03-02T15:10:29.913507",
     "exception": false,
     "start_time": "2025-03-02T15:10:26.489848",
     "status": "completed"
    },
    "tags": []
   },
   "outputs": [
    {
     "name": "stdout",
     "output_type": "stream",
     "text": [
      "Download concluído: /kaggle/working/interacoes/\n"
     ]
    }
   ],
   "source": [
    "bucket_name = \"datathon-base\"\n",
    "prefix = \"base_original/interacoes/\"\n",
    "arq = 'base_original/interacoes/dados_2022_08.csv'\n",
    "local_dir = '/kaggle/working/interacoes/'\n",
    "new_arq = '/kaggle/working/interacoes/hitorico_user.csv'\n",
    "downloader = S3FileDownloader(bucket_name, prefix, local_dir, arq, new_arq)\n",
    "downloader.download_from_s3()"
   ]
  },
  {
   "cell_type": "code",
   "execution_count": 11,
   "id": "4c19d1dc",
   "metadata": {
    "execution": {
     "iopub.execute_input": "2025-03-02T15:10:29.928728Z",
     "iopub.status.busy": "2025-03-02T15:10:29.928487Z",
     "iopub.status.idle": "2025-03-02T15:10:37.627854Z",
     "shell.execute_reply": "2025-03-02T15:10:37.627094Z"
    },
    "papermill": {
     "duration": 7.708397,
     "end_time": "2025-03-02T15:10:37.629370",
     "exception": false,
     "start_time": "2025-03-02T15:10:29.920973",
     "status": "completed"
    },
    "tags": []
   },
   "outputs": [],
   "source": [
    "df_interacoes = pd.read_csv('/kaggle/working/interacoes/hitorico_user.csv')"
   ]
  },
  {
   "cell_type": "code",
   "execution_count": 12,
   "id": "96758658",
   "metadata": {
    "execution": {
     "iopub.execute_input": "2025-03-02T15:10:37.644817Z",
     "iopub.status.busy": "2025-03-02T15:10:37.644544Z",
     "iopub.status.idle": "2025-03-02T15:10:37.648297Z",
     "shell.execute_reply": "2025-03-02T15:10:37.647675Z"
    },
    "papermill": {
     "duration": 0.012527,
     "end_time": "2025-03-02T15:10:37.649501",
     "exception": false,
     "start_time": "2025-03-02T15:10:37.636974",
     "status": "completed"
    },
    "tags": []
   },
   "outputs": [],
   "source": [
    "df_interacoes.rename(columns={'history': 'page'}, inplace = True) "
   ]
  },
  {
   "cell_type": "code",
   "execution_count": 13,
   "id": "bfcb65b1",
   "metadata": {
    "execution": {
     "iopub.execute_input": "2025-03-02T15:10:37.664226Z",
     "iopub.status.busy": "2025-03-02T15:10:37.664022Z",
     "iopub.status.idle": "2025-03-02T15:10:37.668407Z",
     "shell.execute_reply": "2025-03-02T15:10:37.667607Z"
    },
    "papermill": {
     "duration": 0.013021,
     "end_time": "2025-03-02T15:10:37.669657",
     "exception": false,
     "start_time": "2025-03-02T15:10:37.656636",
     "status": "completed"
    },
    "tags": []
   },
   "outputs": [
    {
     "data": {
      "text/plain": [
       "(2779562, 10)"
      ]
     },
     "execution_count": 13,
     "metadata": {},
     "output_type": "execute_result"
    }
   ],
   "source": [
    "df_interacoes.shape"
   ]
  },
  {
   "cell_type": "code",
   "execution_count": 14,
   "id": "2eb65b0b",
   "metadata": {
    "execution": {
     "iopub.execute_input": "2025-03-02T15:10:37.684226Z",
     "iopub.status.busy": "2025-03-02T15:10:37.684030Z",
     "iopub.status.idle": "2025-03-02T15:10:37.693997Z",
     "shell.execute_reply": "2025-03-02T15:10:37.693305Z"
    },
    "papermill": {
     "duration": 0.018593,
     "end_time": "2025-03-02T15:10:37.695216",
     "exception": false,
     "start_time": "2025-03-02T15:10:37.676623",
     "status": "completed"
    },
    "tags": []
   },
   "outputs": [
    {
     "data": {
      "text/html": [
       "<div>\n",
       "<style scoped>\n",
       "    .dataframe tbody tr th:only-of-type {\n",
       "        vertical-align: middle;\n",
       "    }\n",
       "\n",
       "    .dataframe tbody tr th {\n",
       "        vertical-align: top;\n",
       "    }\n",
       "\n",
       "    .dataframe thead th {\n",
       "        text-align: right;\n",
       "    }\n",
       "</style>\n",
       "<table border=\"1\" class=\"dataframe\">\n",
       "  <thead>\n",
       "    <tr style=\"text-align: right;\">\n",
       "      <th></th>\n",
       "      <th>userId</th>\n",
       "      <th>userType</th>\n",
       "      <th>historySize</th>\n",
       "      <th>page</th>\n",
       "      <th>timestampHistory</th>\n",
       "      <th>numberOfClicksHistory</th>\n",
       "      <th>timeOnPageHistory</th>\n",
       "      <th>scrollPercentageHistory</th>\n",
       "      <th>pageVisitsCountHistory</th>\n",
       "      <th>timestampHistory_new</th>\n",
       "    </tr>\n",
       "  </thead>\n",
       "  <tbody>\n",
       "    <tr>\n",
       "      <th>0</th>\n",
       "      <td>e5f68d5e7cdbe56d6984589b4baa6ebfc5e8a8a918e57d...</td>\n",
       "      <td>Logged</td>\n",
       "      <td>12</td>\n",
       "      <td>7456c88d-6473-46ed-83a6-dfc406994162</td>\n",
       "      <td>2022-08-01 16:13:12.309</td>\n",
       "      <td>21</td>\n",
       "      <td>84995</td>\n",
       "      <td>43.48</td>\n",
       "      <td>1</td>\n",
       "      <td>2022-08-01 16:13:12.309</td>\n",
       "    </tr>\n",
       "    <tr>\n",
       "      <th>1</th>\n",
       "      <td>e5f68d5e7cdbe56d6984589b4baa6ebfc5e8a8a918e57d...</td>\n",
       "      <td>Logged</td>\n",
       "      <td>12</td>\n",
       "      <td>458bf0ec-efb4-4bfd-9446-c80295e6aa87</td>\n",
       "      <td>2022-08-05 11:03:37.494</td>\n",
       "      <td>79</td>\n",
       "      <td>536583</td>\n",
       "      <td>75.56</td>\n",
       "      <td>1</td>\n",
       "      <td>2022-08-05 11:03:37.494</td>\n",
       "    </tr>\n",
       "    <tr>\n",
       "      <th>2</th>\n",
       "      <td>e5f68d5e7cdbe56d6984589b4baa6ebfc5e8a8a918e57d...</td>\n",
       "      <td>Logged</td>\n",
       "      <td>12</td>\n",
       "      <td>89fa73f0-4341-4de4-bb2a-e429ef96bd43</td>\n",
       "      <td>2022-08-05 11:25:02.544</td>\n",
       "      <td>25</td>\n",
       "      <td>110000</td>\n",
       "      <td>45.06</td>\n",
       "      <td>1</td>\n",
       "      <td>2022-08-05 11:25:02.544</td>\n",
       "    </tr>\n",
       "  </tbody>\n",
       "</table>\n",
       "</div>"
      ],
      "text/plain": [
       "                                              userId userType  historySize  \\\n",
       "0  e5f68d5e7cdbe56d6984589b4baa6ebfc5e8a8a918e57d...   Logged           12   \n",
       "1  e5f68d5e7cdbe56d6984589b4baa6ebfc5e8a8a918e57d...   Logged           12   \n",
       "2  e5f68d5e7cdbe56d6984589b4baa6ebfc5e8a8a918e57d...   Logged           12   \n",
       "\n",
       "                                   page         timestampHistory  \\\n",
       "0  7456c88d-6473-46ed-83a6-dfc406994162  2022-08-01 16:13:12.309   \n",
       "1  458bf0ec-efb4-4bfd-9446-c80295e6aa87  2022-08-05 11:03:37.494   \n",
       "2  89fa73f0-4341-4de4-bb2a-e429ef96bd43  2022-08-05 11:25:02.544   \n",
       "\n",
       "   numberOfClicksHistory  timeOnPageHistory  scrollPercentageHistory  \\\n",
       "0                     21              84995                    43.48   \n",
       "1                     79             536583                    75.56   \n",
       "2                     25             110000                    45.06   \n",
       "\n",
       "   pageVisitsCountHistory     timestampHistory_new  \n",
       "0                       1  2022-08-01 16:13:12.309  \n",
       "1                       1  2022-08-05 11:03:37.494  \n",
       "2                       1  2022-08-05 11:25:02.544  "
      ]
     },
     "execution_count": 14,
     "metadata": {},
     "output_type": "execute_result"
    }
   ],
   "source": [
    "df_interacoes.head(3)"
   ]
  },
  {
   "cell_type": "markdown",
   "id": "1e385061",
   "metadata": {
    "papermill": {
     "duration": 0.006822,
     "end_time": "2025-03-02T15:10:37.709187",
     "exception": false,
     "start_time": "2025-03-02T15:10:37.702365",
     "status": "completed"
    },
    "tags": []
   },
   "source": [
    "### Mesclando noticias e interações"
   ]
  },
  {
   "cell_type": "code",
   "execution_count": 15,
   "id": "dd03a56f",
   "metadata": {
    "execution": {
     "iopub.execute_input": "2025-03-02T15:10:37.723824Z",
     "iopub.status.busy": "2025-03-02T15:10:37.723592Z",
     "iopub.status.idle": "2025-03-02T15:10:38.671702Z",
     "shell.execute_reply": "2025-03-02T15:10:38.670725Z"
    },
    "papermill": {
     "duration": 0.957173,
     "end_time": "2025-03-02T15:10:38.673369",
     "exception": false,
     "start_time": "2025-03-02T15:10:37.716196",
     "status": "completed"
    },
    "tags": []
   },
   "outputs": [
    {
     "data": {
      "text/html": [
       "<div>\n",
       "<style scoped>\n",
       "    .dataframe tbody tr th:only-of-type {\n",
       "        vertical-align: middle;\n",
       "    }\n",
       "\n",
       "    .dataframe tbody tr th {\n",
       "        vertical-align: top;\n",
       "    }\n",
       "\n",
       "    .dataframe thead th {\n",
       "        text-align: right;\n",
       "    }\n",
       "</style>\n",
       "<table border=\"1\" class=\"dataframe\">\n",
       "  <thead>\n",
       "    <tr style=\"text-align: right;\">\n",
       "      <th></th>\n",
       "      <th>page</th>\n",
       "      <th>url</th>\n",
       "      <th>issued</th>\n",
       "      <th>modified</th>\n",
       "      <th>title</th>\n",
       "      <th>body</th>\n",
       "      <th>caption</th>\n",
       "      <th>userId</th>\n",
       "      <th>userType</th>\n",
       "      <th>historySize</th>\n",
       "      <th>timestampHistory</th>\n",
       "      <th>numberOfClicksHistory</th>\n",
       "      <th>timeOnPageHistory</th>\n",
       "      <th>scrollPercentageHistory</th>\n",
       "      <th>pageVisitsCountHistory</th>\n",
       "      <th>timestampHistory_new</th>\n",
       "    </tr>\n",
       "  </thead>\n",
       "  <tbody>\n",
       "    <tr>\n",
       "      <th>0</th>\n",
       "      <td>56ed4cb1-65c2-42f7-80f4-ea73f0aad59c</td>\n",
       "      <td>http://g1.globo.com/ba/bahia/noticia/2022/08/0...</td>\n",
       "      <td>2022-08-01 17:46:54+00:00</td>\n",
       "      <td>2022-08-01 18:10:14+00:00</td>\n",
       "      <td>Censo 2022: coleta de dados em domicílios come...</td>\n",
       "      <td>Censo do IBGE 2022 começa nesta segunda-feira\\...</td>\n",
       "      <td>Nesta edição, o censo trará, pela primeira vez...</td>\n",
       "      <td>4b0d4ab93884470f7764076a5e453dc8e3406c36609f98...</td>\n",
       "      <td>Logged</td>\n",
       "      <td>3</td>\n",
       "      <td>2022-08-03 00:14:09.411</td>\n",
       "      <td>17</td>\n",
       "      <td>28065</td>\n",
       "      <td>62.76</td>\n",
       "      <td>1</td>\n",
       "      <td>2022-08-03 00:14:09.411</td>\n",
       "    </tr>\n",
       "    <tr>\n",
       "      <th>1</th>\n",
       "      <td>56ed4cb1-65c2-42f7-80f4-ea73f0aad59c</td>\n",
       "      <td>http://g1.globo.com/ba/bahia/noticia/2022/08/0...</td>\n",
       "      <td>2022-08-01 17:46:54+00:00</td>\n",
       "      <td>2022-08-01 18:10:14+00:00</td>\n",
       "      <td>Censo 2022: coleta de dados em domicílios come...</td>\n",
       "      <td>Censo do IBGE 2022 começa nesta segunda-feira\\...</td>\n",
       "      <td>Nesta edição, o censo trará, pela primeira vez...</td>\n",
       "      <td>89271af972b940723854f16b1400a0d46d13d50613ffdb...</td>\n",
       "      <td>Non-Logged</td>\n",
       "      <td>10</td>\n",
       "      <td>2022-08-02 00:14:17.184</td>\n",
       "      <td>0</td>\n",
       "      <td>40000</td>\n",
       "      <td>50.56</td>\n",
       "      <td>1</td>\n",
       "      <td>2022-08-02 00:14:17.184</td>\n",
       "    </tr>\n",
       "    <tr>\n",
       "      <th>2</th>\n",
       "      <td>56ed4cb1-65c2-42f7-80f4-ea73f0aad59c</td>\n",
       "      <td>http://g1.globo.com/ba/bahia/noticia/2022/08/0...</td>\n",
       "      <td>2022-08-01 17:46:54+00:00</td>\n",
       "      <td>2022-08-01 18:10:14+00:00</td>\n",
       "      <td>Censo 2022: coleta de dados em domicílios come...</td>\n",
       "      <td>Censo do IBGE 2022 começa nesta segunda-feira\\...</td>\n",
       "      <td>Nesta edição, o censo trará, pela primeira vez...</td>\n",
       "      <td>651427356537b3b0f5b30d9bd7d6214d0987e3359f3d5c...</td>\n",
       "      <td>Logged</td>\n",
       "      <td>17</td>\n",
       "      <td>2022-08-04 21:08:34.871</td>\n",
       "      <td>9</td>\n",
       "      <td>93727</td>\n",
       "      <td>23.98</td>\n",
       "      <td>4</td>\n",
       "      <td>2022-08-04 21:08:34.871</td>\n",
       "    </tr>\n",
       "  </tbody>\n",
       "</table>\n",
       "</div>"
      ],
      "text/plain": [
       "                                   page  \\\n",
       "0  56ed4cb1-65c2-42f7-80f4-ea73f0aad59c   \n",
       "1  56ed4cb1-65c2-42f7-80f4-ea73f0aad59c   \n",
       "2  56ed4cb1-65c2-42f7-80f4-ea73f0aad59c   \n",
       "\n",
       "                                                 url  \\\n",
       "0  http://g1.globo.com/ba/bahia/noticia/2022/08/0...   \n",
       "1  http://g1.globo.com/ba/bahia/noticia/2022/08/0...   \n",
       "2  http://g1.globo.com/ba/bahia/noticia/2022/08/0...   \n",
       "\n",
       "                      issued                   modified  \\\n",
       "0  2022-08-01 17:46:54+00:00  2022-08-01 18:10:14+00:00   \n",
       "1  2022-08-01 17:46:54+00:00  2022-08-01 18:10:14+00:00   \n",
       "2  2022-08-01 17:46:54+00:00  2022-08-01 18:10:14+00:00   \n",
       "\n",
       "                                               title  \\\n",
       "0  Censo 2022: coleta de dados em domicílios come...   \n",
       "1  Censo 2022: coleta de dados em domicílios come...   \n",
       "2  Censo 2022: coleta de dados em domicílios come...   \n",
       "\n",
       "                                                body  \\\n",
       "0  Censo do IBGE 2022 começa nesta segunda-feira\\...   \n",
       "1  Censo do IBGE 2022 começa nesta segunda-feira\\...   \n",
       "2  Censo do IBGE 2022 começa nesta segunda-feira\\...   \n",
       "\n",
       "                                             caption  \\\n",
       "0  Nesta edição, o censo trará, pela primeira vez...   \n",
       "1  Nesta edição, o censo trará, pela primeira vez...   \n",
       "2  Nesta edição, o censo trará, pela primeira vez...   \n",
       "\n",
       "                                              userId    userType  historySize  \\\n",
       "0  4b0d4ab93884470f7764076a5e453dc8e3406c36609f98...      Logged            3   \n",
       "1  89271af972b940723854f16b1400a0d46d13d50613ffdb...  Non-Logged           10   \n",
       "2  651427356537b3b0f5b30d9bd7d6214d0987e3359f3d5c...      Logged           17   \n",
       "\n",
       "          timestampHistory  numberOfClicksHistory  timeOnPageHistory  \\\n",
       "0  2022-08-03 00:14:09.411                     17              28065   \n",
       "1  2022-08-02 00:14:17.184                      0              40000   \n",
       "2  2022-08-04 21:08:34.871                      9              93727   \n",
       "\n",
       "   scrollPercentageHistory  pageVisitsCountHistory     timestampHistory_new  \n",
       "0                    62.76                       1  2022-08-03 00:14:09.411  \n",
       "1                    50.56                       1  2022-08-02 00:14:17.184  \n",
       "2                    23.98                       4  2022-08-04 21:08:34.871  "
      ]
     },
     "execution_count": 15,
     "metadata": {},
     "output_type": "execute_result"
    }
   ],
   "source": [
    "df = df_news.merge(df_interacoes, on='page')\n",
    "df.head(3)"
   ]
  },
  {
   "cell_type": "code",
   "execution_count": 16,
   "id": "95d2d20c",
   "metadata": {
    "execution": {
     "iopub.execute_input": "2025-03-02T15:10:38.749468Z",
     "iopub.status.busy": "2025-03-02T15:10:38.749164Z",
     "iopub.status.idle": "2025-03-02T15:10:38.981316Z",
     "shell.execute_reply": "2025-03-02T15:10:38.980204Z"
    },
    "papermill": {
     "duration": 0.287918,
     "end_time": "2025-03-02T15:10:38.982819",
     "exception": false,
     "start_time": "2025-03-02T15:10:38.694901",
     "status": "completed"
    },
    "tags": []
   },
   "outputs": [
    {
     "name": "stdout",
     "output_type": "stream",
     "text": [
      "<class 'pandas.core.frame.DataFrame'>\n",
      "RangeIndex: 307517 entries, 0 to 307516\n",
      "Data columns (total 16 columns):\n",
      " #   Column                   Non-Null Count   Dtype  \n",
      "---  ------                   --------------   -----  \n",
      " 0   page                     307517 non-null  object \n",
      " 1   url                      307517 non-null  object \n",
      " 2   issued                   307517 non-null  object \n",
      " 3   modified                 307517 non-null  object \n",
      " 4   title                    307517 non-null  object \n",
      " 5   body                     307517 non-null  object \n",
      " 6   caption                  307517 non-null  object \n",
      " 7   userId                   307517 non-null  object \n",
      " 8   userType                 307517 non-null  object \n",
      " 9   historySize              307517 non-null  int64  \n",
      " 10  timestampHistory         307517 non-null  object \n",
      " 11  numberOfClicksHistory    307517 non-null  int64  \n",
      " 12  timeOnPageHistory        307517 non-null  int64  \n",
      " 13  scrollPercentageHistory  307517 non-null  float64\n",
      " 14  pageVisitsCountHistory   307517 non-null  int64  \n",
      " 15  timestampHistory_new     307517 non-null  object \n",
      "dtypes: float64(1), int64(4), object(11)\n",
      "memory usage: 37.5+ MB\n"
     ]
    }
   ],
   "source": [
    "df.info()"
   ]
  },
  {
   "cell_type": "markdown",
   "id": "568419bd",
   "metadata": {
    "papermill": {
     "duration": 0.007621,
     "end_time": "2025-03-02T15:10:38.999086",
     "exception": false,
     "start_time": "2025-03-02T15:10:38.991465",
     "status": "completed"
    },
    "tags": []
   },
   "source": [
    "### Definindo o Score de cada noticia pelo Tempo na página + Numero de cliques na matéria + Scroll na matéria"
   ]
  },
  {
   "cell_type": "code",
   "execution_count": 17,
   "id": "9efcc0f0",
   "metadata": {
    "execution": {
     "iopub.execute_input": "2025-03-02T15:10:39.014958Z",
     "iopub.status.busy": "2025-03-02T15:10:39.014630Z",
     "iopub.status.idle": "2025-03-02T15:10:39.030522Z",
     "shell.execute_reply": "2025-03-02T15:10:39.029897Z"
    },
    "papermill": {
     "duration": 0.025491,
     "end_time": "2025-03-02T15:10:39.032035",
     "exception": false,
     "start_time": "2025-03-02T15:10:39.006544",
     "status": "completed"
    },
    "tags": []
   },
   "outputs": [],
   "source": [
    "df['score'] = df['timeOnPageHistory'] + df['numberOfClicksHistory'] + df['scrollPercentageHistory']   "
   ]
  },
  {
   "cell_type": "code",
   "execution_count": 18,
   "id": "ec28495c",
   "metadata": {
    "execution": {
     "iopub.execute_input": "2025-03-02T15:10:39.050730Z",
     "iopub.status.busy": "2025-03-02T15:10:39.050501Z",
     "iopub.status.idle": "2025-03-02T15:10:39.064761Z",
     "shell.execute_reply": "2025-03-02T15:10:39.064013Z"
    },
    "papermill": {
     "duration": 0.023979,
     "end_time": "2025-03-02T15:10:39.066027",
     "exception": false,
     "start_time": "2025-03-02T15:10:39.042048",
     "status": "completed"
    },
    "tags": []
   },
   "outputs": [
    {
     "data": {
      "text/html": [
       "<div>\n",
       "<style scoped>\n",
       "    .dataframe tbody tr th:only-of-type {\n",
       "        vertical-align: middle;\n",
       "    }\n",
       "\n",
       "    .dataframe tbody tr th {\n",
       "        vertical-align: top;\n",
       "    }\n",
       "\n",
       "    .dataframe thead th {\n",
       "        text-align: right;\n",
       "    }\n",
       "</style>\n",
       "<table border=\"1\" class=\"dataframe\">\n",
       "  <thead>\n",
       "    <tr style=\"text-align: right;\">\n",
       "      <th></th>\n",
       "      <th>page</th>\n",
       "      <th>url</th>\n",
       "      <th>issued</th>\n",
       "      <th>modified</th>\n",
       "      <th>title</th>\n",
       "      <th>body</th>\n",
       "      <th>caption</th>\n",
       "      <th>userId</th>\n",
       "      <th>userType</th>\n",
       "      <th>historySize</th>\n",
       "      <th>timestampHistory</th>\n",
       "      <th>numberOfClicksHistory</th>\n",
       "      <th>timeOnPageHistory</th>\n",
       "      <th>scrollPercentageHistory</th>\n",
       "      <th>pageVisitsCountHistory</th>\n",
       "      <th>timestampHistory_new</th>\n",
       "      <th>score</th>\n",
       "    </tr>\n",
       "  </thead>\n",
       "  <tbody>\n",
       "    <tr>\n",
       "      <th>0</th>\n",
       "      <td>56ed4cb1-65c2-42f7-80f4-ea73f0aad59c</td>\n",
       "      <td>http://g1.globo.com/ba/bahia/noticia/2022/08/0...</td>\n",
       "      <td>2022-08-01 17:46:54+00:00</td>\n",
       "      <td>2022-08-01 18:10:14+00:00</td>\n",
       "      <td>Censo 2022: coleta de dados em domicílios come...</td>\n",
       "      <td>Censo do IBGE 2022 começa nesta segunda-feira\\...</td>\n",
       "      <td>Nesta edição, o censo trará, pela primeira vez...</td>\n",
       "      <td>4b0d4ab93884470f7764076a5e453dc8e3406c36609f98...</td>\n",
       "      <td>Logged</td>\n",
       "      <td>3</td>\n",
       "      <td>2022-08-03 00:14:09.411</td>\n",
       "      <td>17</td>\n",
       "      <td>28065</td>\n",
       "      <td>62.76</td>\n",
       "      <td>1</td>\n",
       "      <td>2022-08-03 00:14:09.411</td>\n",
       "      <td>28144.76</td>\n",
       "    </tr>\n",
       "    <tr>\n",
       "      <th>1</th>\n",
       "      <td>56ed4cb1-65c2-42f7-80f4-ea73f0aad59c</td>\n",
       "      <td>http://g1.globo.com/ba/bahia/noticia/2022/08/0...</td>\n",
       "      <td>2022-08-01 17:46:54+00:00</td>\n",
       "      <td>2022-08-01 18:10:14+00:00</td>\n",
       "      <td>Censo 2022: coleta de dados em domicílios come...</td>\n",
       "      <td>Censo do IBGE 2022 começa nesta segunda-feira\\...</td>\n",
       "      <td>Nesta edição, o censo trará, pela primeira vez...</td>\n",
       "      <td>89271af972b940723854f16b1400a0d46d13d50613ffdb...</td>\n",
       "      <td>Non-Logged</td>\n",
       "      <td>10</td>\n",
       "      <td>2022-08-02 00:14:17.184</td>\n",
       "      <td>0</td>\n",
       "      <td>40000</td>\n",
       "      <td>50.56</td>\n",
       "      <td>1</td>\n",
       "      <td>2022-08-02 00:14:17.184</td>\n",
       "      <td>40050.56</td>\n",
       "    </tr>\n",
       "    <tr>\n",
       "      <th>2</th>\n",
       "      <td>56ed4cb1-65c2-42f7-80f4-ea73f0aad59c</td>\n",
       "      <td>http://g1.globo.com/ba/bahia/noticia/2022/08/0...</td>\n",
       "      <td>2022-08-01 17:46:54+00:00</td>\n",
       "      <td>2022-08-01 18:10:14+00:00</td>\n",
       "      <td>Censo 2022: coleta de dados em domicílios come...</td>\n",
       "      <td>Censo do IBGE 2022 começa nesta segunda-feira\\...</td>\n",
       "      <td>Nesta edição, o censo trará, pela primeira vez...</td>\n",
       "      <td>651427356537b3b0f5b30d9bd7d6214d0987e3359f3d5c...</td>\n",
       "      <td>Logged</td>\n",
       "      <td>17</td>\n",
       "      <td>2022-08-04 21:08:34.871</td>\n",
       "      <td>9</td>\n",
       "      <td>93727</td>\n",
       "      <td>23.98</td>\n",
       "      <td>4</td>\n",
       "      <td>2022-08-04 21:08:34.871</td>\n",
       "      <td>93759.98</td>\n",
       "    </tr>\n",
       "  </tbody>\n",
       "</table>\n",
       "</div>"
      ],
      "text/plain": [
       "                                   page  \\\n",
       "0  56ed4cb1-65c2-42f7-80f4-ea73f0aad59c   \n",
       "1  56ed4cb1-65c2-42f7-80f4-ea73f0aad59c   \n",
       "2  56ed4cb1-65c2-42f7-80f4-ea73f0aad59c   \n",
       "\n",
       "                                                 url  \\\n",
       "0  http://g1.globo.com/ba/bahia/noticia/2022/08/0...   \n",
       "1  http://g1.globo.com/ba/bahia/noticia/2022/08/0...   \n",
       "2  http://g1.globo.com/ba/bahia/noticia/2022/08/0...   \n",
       "\n",
       "                      issued                   modified  \\\n",
       "0  2022-08-01 17:46:54+00:00  2022-08-01 18:10:14+00:00   \n",
       "1  2022-08-01 17:46:54+00:00  2022-08-01 18:10:14+00:00   \n",
       "2  2022-08-01 17:46:54+00:00  2022-08-01 18:10:14+00:00   \n",
       "\n",
       "                                               title  \\\n",
       "0  Censo 2022: coleta de dados em domicílios come...   \n",
       "1  Censo 2022: coleta de dados em domicílios come...   \n",
       "2  Censo 2022: coleta de dados em domicílios come...   \n",
       "\n",
       "                                                body  \\\n",
       "0  Censo do IBGE 2022 começa nesta segunda-feira\\...   \n",
       "1  Censo do IBGE 2022 começa nesta segunda-feira\\...   \n",
       "2  Censo do IBGE 2022 começa nesta segunda-feira\\...   \n",
       "\n",
       "                                             caption  \\\n",
       "0  Nesta edição, o censo trará, pela primeira vez...   \n",
       "1  Nesta edição, o censo trará, pela primeira vez...   \n",
       "2  Nesta edição, o censo trará, pela primeira vez...   \n",
       "\n",
       "                                              userId    userType  historySize  \\\n",
       "0  4b0d4ab93884470f7764076a5e453dc8e3406c36609f98...      Logged            3   \n",
       "1  89271af972b940723854f16b1400a0d46d13d50613ffdb...  Non-Logged           10   \n",
       "2  651427356537b3b0f5b30d9bd7d6214d0987e3359f3d5c...      Logged           17   \n",
       "\n",
       "          timestampHistory  numberOfClicksHistory  timeOnPageHistory  \\\n",
       "0  2022-08-03 00:14:09.411                     17              28065   \n",
       "1  2022-08-02 00:14:17.184                      0              40000   \n",
       "2  2022-08-04 21:08:34.871                      9              93727   \n",
       "\n",
       "   scrollPercentageHistory  pageVisitsCountHistory     timestampHistory_new  \\\n",
       "0                    62.76                       1  2022-08-03 00:14:09.411   \n",
       "1                    50.56                       1  2022-08-02 00:14:17.184   \n",
       "2                    23.98                       4  2022-08-04 21:08:34.871   \n",
       "\n",
       "      score  \n",
       "0  28144.76  \n",
       "1  40050.56  \n",
       "2  93759.98  "
      ]
     },
     "execution_count": 18,
     "metadata": {},
     "output_type": "execute_result"
    }
   ],
   "source": [
    "df.head(3)"
   ]
  },
  {
   "cell_type": "markdown",
   "id": "94585fb9",
   "metadata": {
    "papermill": {
     "duration": 0.007821,
     "end_time": "2025-03-02T15:10:39.081721",
     "exception": false,
     "start_time": "2025-03-02T15:10:39.073900",
     "status": "completed"
    },
    "tags": []
   },
   "source": [
    "### Agrupando as noticias e somando o score acumulado por notícia"
   ]
  },
  {
   "cell_type": "code",
   "execution_count": 19,
   "id": "86d46996",
   "metadata": {
    "execution": {
     "iopub.execute_input": "2025-03-02T15:10:39.098821Z",
     "iopub.status.busy": "2025-03-02T15:10:39.098561Z",
     "iopub.status.idle": "2025-03-02T15:10:39.222612Z",
     "shell.execute_reply": "2025-03-02T15:10:39.221881Z"
    },
    "papermill": {
     "duration": 0.134619,
     "end_time": "2025-03-02T15:10:39.224450",
     "exception": false,
     "start_time": "2025-03-02T15:10:39.089831",
     "status": "completed"
    },
    "tags": []
   },
   "outputs": [],
   "source": [
    "df_grouped = df.groupby(['page', 'issued', 'title'], as_index=False)['score'].sum()\n"
   ]
  },
  {
   "cell_type": "code",
   "execution_count": 20,
   "id": "146ad19c",
   "metadata": {
    "execution": {
     "iopub.execute_input": "2025-03-02T15:10:39.241559Z",
     "iopub.status.busy": "2025-03-02T15:10:39.241326Z",
     "iopub.status.idle": "2025-03-02T15:10:39.249289Z",
     "shell.execute_reply": "2025-03-02T15:10:39.248518Z"
    },
    "papermill": {
     "duration": 0.017812,
     "end_time": "2025-03-02T15:10:39.250440",
     "exception": false,
     "start_time": "2025-03-02T15:10:39.232628",
     "status": "completed"
    },
    "tags": []
   },
   "outputs": [
    {
     "data": {
      "text/html": [
       "<div>\n",
       "<style scoped>\n",
       "    .dataframe tbody tr th:only-of-type {\n",
       "        vertical-align: middle;\n",
       "    }\n",
       "\n",
       "    .dataframe tbody tr th {\n",
       "        vertical-align: top;\n",
       "    }\n",
       "\n",
       "    .dataframe thead th {\n",
       "        text-align: right;\n",
       "    }\n",
       "</style>\n",
       "<table border=\"1\" class=\"dataframe\">\n",
       "  <thead>\n",
       "    <tr style=\"text-align: right;\">\n",
       "      <th></th>\n",
       "      <th>page</th>\n",
       "      <th>issued</th>\n",
       "      <th>title</th>\n",
       "      <th>score</th>\n",
       "    </tr>\n",
       "  </thead>\n",
       "  <tbody>\n",
       "    <tr>\n",
       "      <th>0</th>\n",
       "      <td>0005256a-90fe-4356-a89f-a91cb0057d0f</td>\n",
       "      <td>2022-08-02 00:59:19+00:00</td>\n",
       "      <td>Santuário com restos mortais de Aleijadinho va...</td>\n",
       "      <td>113327.64</td>\n",
       "    </tr>\n",
       "    <tr>\n",
       "      <th>1</th>\n",
       "      <td>000b0af5-0476-4e7e-b050-0d4aa0f2ab17</td>\n",
       "      <td>2022-08-04 23:16:32+00:00</td>\n",
       "      <td>Vacinação contra a Covid: 169,2 milhões de bra...</td>\n",
       "      <td>485804.90</td>\n",
       "    </tr>\n",
       "    <tr>\n",
       "      <th>2</th>\n",
       "      <td>000c036e-0640-4cdb-a649-9f144a3d3709</td>\n",
       "      <td>2022-08-01 20:15:21+00:00</td>\n",
       "      <td>Pará têm três casos suspeitos de varíola dos m...</td>\n",
       "      <td>1120400.88</td>\n",
       "    </tr>\n",
       "  </tbody>\n",
       "</table>\n",
       "</div>"
      ],
      "text/plain": [
       "                                   page                     issued  \\\n",
       "0  0005256a-90fe-4356-a89f-a91cb0057d0f  2022-08-02 00:59:19+00:00   \n",
       "1  000b0af5-0476-4e7e-b050-0d4aa0f2ab17  2022-08-04 23:16:32+00:00   \n",
       "2  000c036e-0640-4cdb-a649-9f144a3d3709  2022-08-01 20:15:21+00:00   \n",
       "\n",
       "                                               title       score  \n",
       "0  Santuário com restos mortais de Aleijadinho va...   113327.64  \n",
       "1  Vacinação contra a Covid: 169,2 milhões de bra...   485804.90  \n",
       "2  Pará têm três casos suspeitos de varíola dos m...  1120400.88  "
      ]
     },
     "execution_count": 20,
     "metadata": {},
     "output_type": "execute_result"
    }
   ],
   "source": [
    "df_grouped.head(3)"
   ]
  },
  {
   "cell_type": "code",
   "execution_count": 21,
   "id": "a32aad72",
   "metadata": {
    "execution": {
     "iopub.execute_input": "2025-03-02T15:10:39.267155Z",
     "iopub.status.busy": "2025-03-02T15:10:39.266936Z",
     "iopub.status.idle": "2025-03-02T15:10:39.271152Z",
     "shell.execute_reply": "2025-03-02T15:10:39.270369Z"
    },
    "papermill": {
     "duration": 0.013892,
     "end_time": "2025-03-02T15:10:39.272486",
     "exception": false,
     "start_time": "2025-03-02T15:10:39.258594",
     "status": "completed"
    },
    "tags": []
   },
   "outputs": [
    {
     "data": {
      "text/plain": [
       "(9921, 4)"
      ]
     },
     "execution_count": 21,
     "metadata": {},
     "output_type": "execute_result"
    }
   ],
   "source": [
    "df_grouped.shape"
   ]
  },
  {
   "cell_type": "markdown",
   "id": "0474521e",
   "metadata": {
    "papermill": {
     "duration": 0.007841,
     "end_time": "2025-03-02T15:10:39.288516",
     "exception": false,
     "start_time": "2025-03-02T15:10:39.280675",
     "status": "completed"
    },
    "tags": []
   },
   "source": [
    "### Ordenando por Score e data de publicação"
   ]
  },
  {
   "cell_type": "code",
   "execution_count": 22,
   "id": "b9bbfbee",
   "metadata": {
    "execution": {
     "iopub.execute_input": "2025-03-02T15:10:39.305946Z",
     "iopub.status.busy": "2025-03-02T15:10:39.305646Z",
     "iopub.status.idle": "2025-03-02T15:10:39.310965Z",
     "shell.execute_reply": "2025-03-02T15:10:39.310085Z"
    },
    "papermill": {
     "duration": 0.01522,
     "end_time": "2025-03-02T15:10:39.312127",
     "exception": false,
     "start_time": "2025-03-02T15:10:39.296907",
     "status": "completed"
    },
    "tags": []
   },
   "outputs": [],
   "source": [
    "df_sorted = df_grouped.sort_values(by=['score'], ascending=[False])\n"
   ]
  },
  {
   "cell_type": "code",
   "execution_count": 23,
   "id": "e8122bc4",
   "metadata": {
    "execution": {
     "iopub.execute_input": "2025-03-02T15:10:39.329065Z",
     "iopub.status.busy": "2025-03-02T15:10:39.328838Z",
     "iopub.status.idle": "2025-03-02T15:10:39.338678Z",
     "shell.execute_reply": "2025-03-02T15:10:39.337755Z"
    },
    "papermill": {
     "duration": 0.019799,
     "end_time": "2025-03-02T15:10:39.340055",
     "exception": false,
     "start_time": "2025-03-02T15:10:39.320256",
     "status": "completed"
    },
    "tags": []
   },
   "outputs": [
    {
     "data": {
      "text/html": [
       "<div>\n",
       "<style scoped>\n",
       "    .dataframe tbody tr th:only-of-type {\n",
       "        vertical-align: middle;\n",
       "    }\n",
       "\n",
       "    .dataframe tbody tr th {\n",
       "        vertical-align: top;\n",
       "    }\n",
       "\n",
       "    .dataframe thead th {\n",
       "        text-align: right;\n",
       "    }\n",
       "</style>\n",
       "<table border=\"1\" class=\"dataframe\">\n",
       "  <thead>\n",
       "    <tr style=\"text-align: right;\">\n",
       "      <th></th>\n",
       "      <th>page</th>\n",
       "      <th>issued</th>\n",
       "      <th>title</th>\n",
       "      <th>score</th>\n",
       "    </tr>\n",
       "  </thead>\n",
       "  <tbody>\n",
       "    <tr>\n",
       "      <th>9889</th>\n",
       "      <td>ff3e8c61-d72a-42bf-a84a-ecf5409468dd</td>\n",
       "      <td>2022-07-09 13:32:52+00:00</td>\n",
       "      <td>Luva de Pedreiro diz que foi intimado pela Jus...</td>\n",
       "      <td>5.051177e+08</td>\n",
       "    </tr>\n",
       "    <tr>\n",
       "      <th>129</th>\n",
       "      <td>037155f4-4db8-4f07-8d0a-3e559605b8ad</td>\n",
       "      <td>2022-07-04 02:08:02+00:00</td>\n",
       "      <td>Luva de Pedreiro sobre a polêmica com o antigo...</td>\n",
       "      <td>4.268555e+08</td>\n",
       "    </tr>\n",
       "    <tr>\n",
       "      <th>6190</th>\n",
       "      <td>a25e68dd-1343-4dc5-be73-2ae40aaca5ee</td>\n",
       "      <td>2022-07-05 16:40:02+00:00</td>\n",
       "      <td>Celulares com 5G: veja a lista de aparelhos ho...</td>\n",
       "      <td>3.644834e+08</td>\n",
       "    </tr>\n",
       "    <tr>\n",
       "      <th>2951</th>\n",
       "      <td>4e73dd4e-0e2b-4a11-8f5b-658619b08027</td>\n",
       "      <td>2022-07-14 09:23:20+00:00</td>\n",
       "      <td>Fonoaudióloga suspeita de torturar crianças au...</td>\n",
       "      <td>3.438642e+08</td>\n",
       "    </tr>\n",
       "    <tr>\n",
       "      <th>2957</th>\n",
       "      <td>4e9c2825-ff13-41ca-8e91-edd848060d19</td>\n",
       "      <td>2022-08-02 12:45:41+00:00</td>\n",
       "      <td>Menina de 10 anos que estava desaparecida após...</td>\n",
       "      <td>2.499455e+08</td>\n",
       "    </tr>\n",
       "    <tr>\n",
       "      <th>...</th>\n",
       "      <td>...</td>\n",
       "      <td>...</td>\n",
       "      <td>...</td>\n",
       "      <td>...</td>\n",
       "    </tr>\n",
       "    <tr>\n",
       "      <th>9191</th>\n",
       "      <td>ed917d5b-9abb-4a0b-a22c-3e538c5c3a40</td>\n",
       "      <td>2022-08-04 21:33:06+00:00</td>\n",
       "      <td>Servidora da Vara da Família suspeita de cobra...</td>\n",
       "      <td>5.597740e+03</td>\n",
       "    </tr>\n",
       "    <tr>\n",
       "      <th>4594</th>\n",
       "      <td>79236d5d-17a2-49b8-9207-9abebf8466a9</td>\n",
       "      <td>2022-08-02 20:17:50+00:00</td>\n",
       "      <td>Com média de 5 ocorrências de queimada por sem...</td>\n",
       "      <td>5.585560e+03</td>\n",
       "    </tr>\n",
       "    <tr>\n",
       "      <th>9585</th>\n",
       "      <td>f7ca6362-cf2e-4586-86b7-021e70f7801f</td>\n",
       "      <td>2022-08-04 14:22:28+00:00</td>\n",
       "      <td>Ônibus perde controle e atinge duas caminhonet...</td>\n",
       "      <td>5.563900e+03</td>\n",
       "    </tr>\n",
       "    <tr>\n",
       "      <th>1143</th>\n",
       "      <td>1e646c9f-3239-47bf-8701-97ea7b1765f2</td>\n",
       "      <td>2022-08-08 21:05:51+00:00</td>\n",
       "      <td>Moraes pede explicações do governo sobre supos...</td>\n",
       "      <td>5.460690e+03</td>\n",
       "    </tr>\n",
       "    <tr>\n",
       "      <th>1587</th>\n",
       "      <td>2a357fd7-fa8d-4417-917c-c7150d49409e</td>\n",
       "      <td>2022-08-02 17:02:34+00:00</td>\n",
       "      <td>Em Óbidos, Semed confirma para quarta-feira, 8...</td>\n",
       "      <td>5.098760e+03</td>\n",
       "    </tr>\n",
       "  </tbody>\n",
       "</table>\n",
       "<p>9921 rows × 4 columns</p>\n",
       "</div>"
      ],
      "text/plain": [
       "                                      page                     issued  \\\n",
       "9889  ff3e8c61-d72a-42bf-a84a-ecf5409468dd  2022-07-09 13:32:52+00:00   \n",
       "129   037155f4-4db8-4f07-8d0a-3e559605b8ad  2022-07-04 02:08:02+00:00   \n",
       "6190  a25e68dd-1343-4dc5-be73-2ae40aaca5ee  2022-07-05 16:40:02+00:00   \n",
       "2951  4e73dd4e-0e2b-4a11-8f5b-658619b08027  2022-07-14 09:23:20+00:00   \n",
       "2957  4e9c2825-ff13-41ca-8e91-edd848060d19  2022-08-02 12:45:41+00:00   \n",
       "...                                    ...                        ...   \n",
       "9191  ed917d5b-9abb-4a0b-a22c-3e538c5c3a40  2022-08-04 21:33:06+00:00   \n",
       "4594  79236d5d-17a2-49b8-9207-9abebf8466a9  2022-08-02 20:17:50+00:00   \n",
       "9585  f7ca6362-cf2e-4586-86b7-021e70f7801f  2022-08-04 14:22:28+00:00   \n",
       "1143  1e646c9f-3239-47bf-8701-97ea7b1765f2  2022-08-08 21:05:51+00:00   \n",
       "1587  2a357fd7-fa8d-4417-917c-c7150d49409e  2022-08-02 17:02:34+00:00   \n",
       "\n",
       "                                                  title         score  \n",
       "9889  Luva de Pedreiro diz que foi intimado pela Jus...  5.051177e+08  \n",
       "129   Luva de Pedreiro sobre a polêmica com o antigo...  4.268555e+08  \n",
       "6190  Celulares com 5G: veja a lista de aparelhos ho...  3.644834e+08  \n",
       "2951  Fonoaudióloga suspeita de torturar crianças au...  3.438642e+08  \n",
       "2957  Menina de 10 anos que estava desaparecida após...  2.499455e+08  \n",
       "...                                                 ...           ...  \n",
       "9191  Servidora da Vara da Família suspeita de cobra...  5.597740e+03  \n",
       "4594  Com média de 5 ocorrências de queimada por sem...  5.585560e+03  \n",
       "9585  Ônibus perde controle e atinge duas caminhonet...  5.563900e+03  \n",
       "1143  Moraes pede explicações do governo sobre supos...  5.460690e+03  \n",
       "1587  Em Óbidos, Semed confirma para quarta-feira, 8...  5.098760e+03  \n",
       "\n",
       "[9921 rows x 4 columns]"
      ]
     },
     "execution_count": 23,
     "metadata": {},
     "output_type": "execute_result"
    }
   ],
   "source": [
    "df_sorted"
   ]
  },
  {
   "cell_type": "code",
   "execution_count": 24,
   "id": "a60cfe87",
   "metadata": {
    "execution": {
     "iopub.execute_input": "2025-03-02T15:10:39.357366Z",
     "iopub.status.busy": "2025-03-02T15:10:39.357159Z",
     "iopub.status.idle": "2025-03-02T15:10:39.360480Z",
     "shell.execute_reply": "2025-03-02T15:10:39.359697Z"
    },
    "papermill": {
     "duration": 0.013459,
     "end_time": "2025-03-02T15:10:39.361833",
     "exception": false,
     "start_time": "2025-03-02T15:10:39.348374",
     "status": "completed"
    },
    "tags": []
   },
   "outputs": [],
   "source": [
    "top_news = df_sorted.head(10)"
   ]
  },
  {
   "cell_type": "code",
   "execution_count": 25,
   "id": "e0de468a",
   "metadata": {
    "execution": {
     "iopub.execute_input": "2025-03-02T15:10:39.380196Z",
     "iopub.status.busy": "2025-03-02T15:10:39.379986Z",
     "iopub.status.idle": "2025-03-02T15:10:39.388562Z",
     "shell.execute_reply": "2025-03-02T15:10:39.387796Z"
    },
    "papermill": {
     "duration": 0.019272,
     "end_time": "2025-03-02T15:10:39.389878",
     "exception": false,
     "start_time": "2025-03-02T15:10:39.370606",
     "status": "completed"
    },
    "tags": []
   },
   "outputs": [
    {
     "data": {
      "text/html": [
       "<div>\n",
       "<style scoped>\n",
       "    .dataframe tbody tr th:only-of-type {\n",
       "        vertical-align: middle;\n",
       "    }\n",
       "\n",
       "    .dataframe tbody tr th {\n",
       "        vertical-align: top;\n",
       "    }\n",
       "\n",
       "    .dataframe thead th {\n",
       "        text-align: right;\n",
       "    }\n",
       "</style>\n",
       "<table border=\"1\" class=\"dataframe\">\n",
       "  <thead>\n",
       "    <tr style=\"text-align: right;\">\n",
       "      <th></th>\n",
       "      <th>page</th>\n",
       "      <th>issued</th>\n",
       "      <th>title</th>\n",
       "      <th>score</th>\n",
       "    </tr>\n",
       "  </thead>\n",
       "  <tbody>\n",
       "    <tr>\n",
       "      <th>9889</th>\n",
       "      <td>ff3e8c61-d72a-42bf-a84a-ecf5409468dd</td>\n",
       "      <td>2022-07-09 13:32:52+00:00</td>\n",
       "      <td>Luva de Pedreiro diz que foi intimado pela Jus...</td>\n",
       "      <td>5.051177e+08</td>\n",
       "    </tr>\n",
       "    <tr>\n",
       "      <th>129</th>\n",
       "      <td>037155f4-4db8-4f07-8d0a-3e559605b8ad</td>\n",
       "      <td>2022-07-04 02:08:02+00:00</td>\n",
       "      <td>Luva de Pedreiro sobre a polêmica com o antigo...</td>\n",
       "      <td>4.268555e+08</td>\n",
       "    </tr>\n",
       "    <tr>\n",
       "      <th>6190</th>\n",
       "      <td>a25e68dd-1343-4dc5-be73-2ae40aaca5ee</td>\n",
       "      <td>2022-07-05 16:40:02+00:00</td>\n",
       "      <td>Celulares com 5G: veja a lista de aparelhos ho...</td>\n",
       "      <td>3.644834e+08</td>\n",
       "    </tr>\n",
       "    <tr>\n",
       "      <th>2951</th>\n",
       "      <td>4e73dd4e-0e2b-4a11-8f5b-658619b08027</td>\n",
       "      <td>2022-07-14 09:23:20+00:00</td>\n",
       "      <td>Fonoaudióloga suspeita de torturar crianças au...</td>\n",
       "      <td>3.438642e+08</td>\n",
       "    </tr>\n",
       "    <tr>\n",
       "      <th>2957</th>\n",
       "      <td>4e9c2825-ff13-41ca-8e91-edd848060d19</td>\n",
       "      <td>2022-08-02 12:45:41+00:00</td>\n",
       "      <td>Menina de 10 anos que estava desaparecida após...</td>\n",
       "      <td>2.499455e+08</td>\n",
       "    </tr>\n",
       "    <tr>\n",
       "      <th>7296</th>\n",
       "      <td>bf257382-74fb-4392-ad6a-143240e39f81</td>\n",
       "      <td>2022-08-05 08:23:07+00:00</td>\n",
       "      <td>Jô Soares, ícone do humor e da TV, morre em Sã...</td>\n",
       "      <td>2.430707e+08</td>\n",
       "    </tr>\n",
       "    <tr>\n",
       "      <th>9291</th>\n",
       "      <td>f0a78e58-ec7e-494c-9462-fbd6446a9a89</td>\n",
       "      <td>2022-08-03 20:08:46+00:00</td>\n",
       "      <td>Caso Bárbara: suspeito de envolvimento no assa...</td>\n",
       "      <td>2.428267e+08</td>\n",
       "    </tr>\n",
       "    <tr>\n",
       "      <th>3192</th>\n",
       "      <td>54600b87-2432-4147-92b6-a93e2f6befb4</td>\n",
       "      <td>2022-07-05 09:00:43+00:00</td>\n",
       "      <td>Compras no exterior: saiba quando é preciso pa...</td>\n",
       "      <td>1.966580e+08</td>\n",
       "    </tr>\n",
       "    <tr>\n",
       "      <th>1170</th>\n",
       "      <td>1f32787b-de2b-49be-8c20-ddaeae34cc22</td>\n",
       "      <td>2022-08-10 09:55:29+00:00</td>\n",
       "      <td>Filha é presa por golpe estimado em R$ 725 mil...</td>\n",
       "      <td>1.963689e+08</td>\n",
       "    </tr>\n",
       "    <tr>\n",
       "      <th>5351</th>\n",
       "      <td>8c246d2b-81bd-4c1f-b563-2c905675f984</td>\n",
       "      <td>2022-08-02 14:44:28+00:00</td>\n",
       "      <td>Voo de Nancy Pelosi pousa em Taiwan, e China f...</td>\n",
       "      <td>1.884798e+08</td>\n",
       "    </tr>\n",
       "  </tbody>\n",
       "</table>\n",
       "</div>"
      ],
      "text/plain": [
       "                                      page                     issued  \\\n",
       "9889  ff3e8c61-d72a-42bf-a84a-ecf5409468dd  2022-07-09 13:32:52+00:00   \n",
       "129   037155f4-4db8-4f07-8d0a-3e559605b8ad  2022-07-04 02:08:02+00:00   \n",
       "6190  a25e68dd-1343-4dc5-be73-2ae40aaca5ee  2022-07-05 16:40:02+00:00   \n",
       "2951  4e73dd4e-0e2b-4a11-8f5b-658619b08027  2022-07-14 09:23:20+00:00   \n",
       "2957  4e9c2825-ff13-41ca-8e91-edd848060d19  2022-08-02 12:45:41+00:00   \n",
       "7296  bf257382-74fb-4392-ad6a-143240e39f81  2022-08-05 08:23:07+00:00   \n",
       "9291  f0a78e58-ec7e-494c-9462-fbd6446a9a89  2022-08-03 20:08:46+00:00   \n",
       "3192  54600b87-2432-4147-92b6-a93e2f6befb4  2022-07-05 09:00:43+00:00   \n",
       "1170  1f32787b-de2b-49be-8c20-ddaeae34cc22  2022-08-10 09:55:29+00:00   \n",
       "5351  8c246d2b-81bd-4c1f-b563-2c905675f984  2022-08-02 14:44:28+00:00   \n",
       "\n",
       "                                                  title         score  \n",
       "9889  Luva de Pedreiro diz que foi intimado pela Jus...  5.051177e+08  \n",
       "129   Luva de Pedreiro sobre a polêmica com o antigo...  4.268555e+08  \n",
       "6190  Celulares com 5G: veja a lista de aparelhos ho...  3.644834e+08  \n",
       "2951  Fonoaudióloga suspeita de torturar crianças au...  3.438642e+08  \n",
       "2957  Menina de 10 anos que estava desaparecida após...  2.499455e+08  \n",
       "7296  Jô Soares, ícone do humor e da TV, morre em Sã...  2.430707e+08  \n",
       "9291  Caso Bárbara: suspeito de envolvimento no assa...  2.428267e+08  \n",
       "3192  Compras no exterior: saiba quando é preciso pa...  1.966580e+08  \n",
       "1170  Filha é presa por golpe estimado em R$ 725 mil...  1.963689e+08  \n",
       "5351  Voo de Nancy Pelosi pousa em Taiwan, e China f...  1.884798e+08  "
      ]
     },
     "execution_count": 25,
     "metadata": {},
     "output_type": "execute_result"
    }
   ],
   "source": [
    "top_news"
   ]
  },
  {
   "cell_type": "markdown",
   "id": "757681ec",
   "metadata": {
    "papermill": {
     "duration": 0.008139,
     "end_time": "2025-03-02T15:10:39.406593",
     "exception": false,
     "start_time": "2025-03-02T15:10:39.398454",
     "status": "completed"
    },
    "tags": []
   },
   "source": [
    "### Classe de Recomendação"
   ]
  },
  {
   "cell_type": "code",
   "execution_count": 26,
   "id": "8e788774",
   "metadata": {
    "execution": {
     "iopub.execute_input": "2025-03-02T15:10:39.423970Z",
     "iopub.status.busy": "2025-03-02T15:10:39.423709Z",
     "iopub.status.idle": "2025-03-02T15:10:39.428919Z",
     "shell.execute_reply": "2025-03-02T15:10:39.428191Z"
    },
    "papermill": {
     "duration": 0.015348,
     "end_time": "2025-03-02T15:10:39.430141",
     "exception": false,
     "start_time": "2025-03-02T15:10:39.414793",
     "status": "completed"
    },
    "tags": []
   },
   "outputs": [
    {
     "name": "stdout",
     "output_type": "stream",
     "text": [
      "Done\n"
     ]
    }
   ],
   "source": [
    "class Recomendation:\n",
    "    def recomendation_cold_start(df_noticias: pd.DataFrame, df_interacoes: pd.DataFrame):\n",
    "\n",
    "        df_interacoes.rename(columns={'history': 'page'}, inplace = True) \n",
    "        df = df_noticias.merge(df_interacoes, on='page')\n",
    "    \n",
    "        #monta o score das noticias\n",
    "        df['score'] = df['timeOnPageHistory'] + df['numberOfClicksHistory'] + df['scrollPercentageHistory']   \n",
    "    \n",
    "        #agrupando as noticias e somando scores\n",
    "        df_grouped = df.groupby(['page', 'issued', 'title'], as_index=False)['score'].sum()\n",
    "    \n",
    "        #ordenando as notiticas pelo score\n",
    "        df_sorted = df_grouped.sort_values(by=['score'], ascending=[False])\n",
    "    \n",
    "        rec = df_sorted.head(10) \n",
    "        rec_new = rec[['page', 'score']]\n",
    "        \n",
    "        return rec_new\n",
    "\n",
    "print('Done')\n",
    "    "
   ]
  },
  {
   "cell_type": "code",
   "execution_count": 27,
   "id": "2126d1d6",
   "metadata": {
    "execution": {
     "iopub.execute_input": "2025-03-02T15:10:39.447937Z",
     "iopub.status.busy": "2025-03-02T15:10:39.447717Z",
     "iopub.status.idle": "2025-03-02T15:10:40.543812Z",
     "shell.execute_reply": "2025-03-02T15:10:40.542675Z"
    },
    "papermill": {
     "duration": 1.106247,
     "end_time": "2025-03-02T15:10:40.545248",
     "exception": false,
     "start_time": "2025-03-02T15:10:39.439001",
     "status": "completed"
    },
    "tags": []
   },
   "outputs": [
    {
     "name": "stdout",
     "output_type": "stream",
     "text": [
      "                                      page         score\n",
      "9889  ff3e8c61-d72a-42bf-a84a-ecf5409468dd  5.051177e+08\n",
      "129   037155f4-4db8-4f07-8d0a-3e559605b8ad  4.268555e+08\n",
      "6190  a25e68dd-1343-4dc5-be73-2ae40aaca5ee  3.644834e+08\n",
      "2951  4e73dd4e-0e2b-4a11-8f5b-658619b08027  3.438642e+08\n",
      "2957  4e9c2825-ff13-41ca-8e91-edd848060d19  2.499455e+08\n",
      "7296  bf257382-74fb-4392-ad6a-143240e39f81  2.430707e+08\n",
      "9291  f0a78e58-ec7e-494c-9462-fbd6446a9a89  2.428267e+08\n",
      "3192  54600b87-2432-4147-92b6-a93e2f6befb4  1.966580e+08\n",
      "1170  1f32787b-de2b-49be-8c20-ddaeae34cc22  1.963689e+08\n",
      "5351  8c246d2b-81bd-4c1f-b563-2c905675f984  1.884798e+08\n"
     ]
    }
   ],
   "source": [
    "recommendations = Recomendation.recomendation_cold_start(df_news, df_interacoes)\n",
    "print(recommendations)"
   ]
  },
  {
   "cell_type": "markdown",
   "id": "9c62eb82",
   "metadata": {
    "papermill": {
     "duration": 0.008189,
     "end_time": "2025-03-02T15:10:40.562287",
     "exception": false,
     "start_time": "2025-03-02T15:10:40.554098",
     "status": "completed"
    },
    "tags": []
   },
   "source": [
    "### Transformando a recomendação em CSV e enviando para a AWS"
   ]
  },
  {
   "cell_type": "code",
   "execution_count": 28,
   "id": "41c3016e",
   "metadata": {
    "execution": {
     "iopub.execute_input": "2025-03-02T15:10:40.579638Z",
     "iopub.status.busy": "2025-03-02T15:10:40.579363Z",
     "iopub.status.idle": "2025-03-02T15:10:40.587928Z",
     "shell.execute_reply": "2025-03-02T15:10:40.587111Z"
    },
    "papermill": {
     "duration": 0.018657,
     "end_time": "2025-03-02T15:10:40.589201",
     "exception": false,
     "start_time": "2025-03-02T15:10:40.570544",
     "status": "completed"
    },
    "tags": []
   },
   "outputs": [],
   "source": [
    "recommendations.to_csv('/kaggle/working/recomendations.csv', index=False)"
   ]
  },
  {
   "cell_type": "code",
   "execution_count": 29,
   "id": "9af34901",
   "metadata": {
    "execution": {
     "iopub.execute_input": "2025-03-02T15:10:40.606860Z",
     "iopub.status.busy": "2025-03-02T15:10:40.606614Z",
     "iopub.status.idle": "2025-03-02T15:10:40.846602Z",
     "shell.execute_reply": "2025-03-02T15:10:40.845898Z"
    },
    "papermill": {
     "duration": 0.250177,
     "end_time": "2025-03-02T15:10:40.847840",
     "exception": false,
     "start_time": "2025-03-02T15:10:40.597663",
     "status": "completed"
    },
    "tags": []
   },
   "outputs": [
    {
     "name": "stdout",
     "output_type": "stream",
     "text": [
      "✔ Upload de /kaggle/working/recomendations.csv para s3://datathon-base/recomendations.csv concluído.\n"
     ]
    },
    {
     "data": {
      "text/plain": [
       "True"
      ]
     },
     "execution_count": 29,
     "metadata": {},
     "output_type": "execute_result"
    }
   ],
   "source": [
    "file_path = \"/kaggle/working/recomendations.csv\"\n",
    "bucket_name = \"datathon-base\"\n",
    "object_name= \"recomendations.csv\"\n",
    "upload_to_s3(file_path, bucket_name)"
   ]
  }
 ],
 "metadata": {
  "kaggle": {
   "accelerator": "nvidiaTeslaT4",
   "dataSources": [
    {
     "datasetId": 6709832,
     "sourceId": 10835007,
     "sourceType": "datasetVersion"
    }
   ],
   "isGpuEnabled": true,
   "isInternetEnabled": true,
   "language": "python",
   "sourceType": "notebook"
  },
  "kernelspec": {
   "display_name": "Python 3",
   "language": "python",
   "name": "python3"
  },
  "language_info": {
   "codemirror_mode": {
    "name": "ipython",
    "version": 3
   },
   "file_extension": ".py",
   "mimetype": "text/x-python",
   "name": "python",
   "nbconvert_exporter": "python",
   "pygments_lexer": "ipython3",
   "version": "3.10.12"
  },
  "papermill": {
   "default_parameters": {},
   "duration": 23.718089,
   "end_time": "2025-03-02T15:10:41.675317",
   "environment_variables": {},
   "exception": null,
   "input_path": "__notebook__.ipynb",
   "output_path": "__notebook__.ipynb",
   "parameters": {},
   "start_time": "2025-03-02T15:10:17.957228",
   "version": "2.6.0"
  }
 },
 "nbformat": 4,
 "nbformat_minor": 5
}
